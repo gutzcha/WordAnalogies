{
 "cells": [
  {
   "cell_type": "markdown",
   "metadata": {},
   "source": [
    "# Gensim word vector visualization of various word vectors"
   ]
  },
  {
   "cell_type": "code",
   "execution_count": 3,
   "metadata": {},
   "outputs": [],
   "source": [
    "import numpy as np\n",
    "\n",
    "# Get the interactive Tools for Matplotlib\n",
    "%matplotlib notebook\n",
    "import matplotlib.pyplot as plt\n",
    "plt.style.use('ggplot')\n",
    "\n",
    "from sklearn.decomposition import PCA\n",
    "\n",
    "from gensim.test.utils import datapath, get_tmpfile\n",
    "from gensim.models import KeyedVectors\n",
    "from gensim.scripts.glove2word2vec import glove2word2vec"
   ]
  },
  {
   "cell_type": "markdown",
   "metadata": {},
   "source": [
    "\n",
    "\n",
    "For looking at word vectors, I'll use Gensim. We also use it in hw1 for word vectors. Gensim isn't really a deep learning package. It's a package for for word and text similarity modeling, which started with (LDA-style) topic models and grew into SVD and neural word representations. But its efficient and scalable, and quite widely used.\n",
    "\n",
    "Our homegrown Stanford offering is GloVe word vectors. Gensim doesn't give them first class support, but allows you to convert a file of GloVe vectors into word2vec format. You can download the GloVe vectors from the Glove page. They're inside this zip file\n",
    "\n",
    "(I use the 100d vectors below as a mix between speed and smallness vs. quality. If you try out the 50d vectors, they basically work for similarity but clearly aren't as good for analogy problems. If you load the 300d vectors, they're even better than the 100d vectors.)\n"
   ]
  },
  {
   "cell_type": "code",
   "execution_count": 75,
   "metadata": {},
   "outputs": [
    {
     "data": {
      "text/plain": [
       "(400000, 300)"
      ]
     },
     "execution_count": 75,
     "metadata": {},
     "output_type": "execute_result"
    }
   ],
   "source": [
    "file_path = 'C:/Users/User/glove/glove.6B/glove.6B.300d.txt'\n",
    "glove_file = datapath(file_path)\n",
    "word2vec_glove_file = get_tmpfile(\"glove.6B.300d.word2vec.txt\")\n",
    "glove2word2vec(glove_file, word2vec_glove_file)"
   ]
  },
  {
   "cell_type": "code",
   "execution_count": 76,
   "metadata": {},
   "outputs": [],
   "source": [
    "model = KeyedVectors.load_word2vec_format(word2vec_glove_file)"
   ]
  },
  {
   "cell_type": "code",
   "execution_count": 77,
   "metadata": {},
   "outputs": [
    {
     "data": {
      "text/plain": [
       "[('barack', 0.9254721999168396),\n",
       " ('mccain', 0.7590768337249756),\n",
       " ('bush', 0.7570987343788147),\n",
       " ('clinton', 0.7085603475570679),\n",
       " ('hillary', 0.6497915983200073),\n",
       " ('kerry', 0.6144052147865295),\n",
       " ('rodham', 0.6138635277748108),\n",
       " ('biden', 0.5940852165222168),\n",
       " ('gore', 0.5885975956916809),\n",
       " ('democrats', 0.5608304738998413)]"
      ]
     },
     "execution_count": 77,
     "metadata": {},
     "output_type": "execute_result"
    }
   ],
   "source": [
    "model.most_similar('obama')"
   ]
  },
  {
   "cell_type": "code",
   "execution_count": 78,
   "metadata": {},
   "outputs": [
    {
     "data": {
      "text/plain": [
       "[('bananas', 0.6691170930862427),\n",
       " ('mango', 0.5804104208946228),\n",
       " ('pineapple', 0.5492371320724487),\n",
       " ('coconut', 0.5462778806686401),\n",
       " ('papaya', 0.541056752204895),\n",
       " ('fruit', 0.52181077003479),\n",
       " ('growers', 0.4877638816833496),\n",
       " ('nut', 0.4839959740638733),\n",
       " ('peanut', 0.48062023520469666),\n",
       " ('potato', 0.48061174154281616)]"
      ]
     },
     "execution_count": 78,
     "metadata": {},
     "output_type": "execute_result"
    }
   ],
   "source": [
    "model.most_similar('banana')"
   ]
  },
  {
   "cell_type": "code",
   "execution_count": 79,
   "metadata": {},
   "outputs": [
    {
     "name": "stdout",
     "output_type": "stream",
     "text": [
      "queen: 0.6713\n"
     ]
    }
   ],
   "source": [
    "result = model.most_similar(positive=['woman', 'king'], negative=['man'])\n",
    "print(\"{}: {:.4f}\".format(*result[0]))"
   ]
  },
  {
   "cell_type": "code",
   "execution_count": 80,
   "metadata": {},
   "outputs": [],
   "source": [
    "def analogy(x1, x2, y1):\n",
    "    result = model.most_similar(positive=[y1, x2], negative=[x1])\n",
    "    return result[0][0]\n"
   ]
  },
  {
   "cell_type": "markdown",
   "metadata": {},
   "source": [
    "Analogy"
   ]
  },
  {
   "cell_type": "code",
   "execution_count": 81,
   "metadata": {},
   "outputs": [
    {
     "data": {
      "text/plain": [
       "'australian'"
      ]
     },
     "execution_count": 81,
     "metadata": {},
     "output_type": "execute_result"
    }
   ],
   "source": [
    "analogy('japan', 'japanese', 'australia')"
   ]
  },
  {
   "cell_type": "code",
   "execution_count": 82,
   "metadata": {},
   "outputs": [
    {
     "data": {
      "text/plain": [
       "'champagne'"
      ]
     },
     "execution_count": 82,
     "metadata": {},
     "output_type": "execute_result"
    }
   ],
   "source": [
    "analogy('australia', 'beer', 'france')"
   ]
  },
  {
   "cell_type": "code",
   "execution_count": 130,
   "metadata": {},
   "outputs": [
    {
     "data": {
      "text/plain": [
       "'parramatta'"
      ]
     },
     "execution_count": 130,
     "metadata": {},
     "output_type": "execute_result"
    }
   ],
   "source": [
    "analogy('woman', 'manly', 'man')"
   ]
  },
  {
   "cell_type": "code",
   "execution_count": null,
   "metadata": {},
   "outputs": [],
   "source": []
  },
  {
   "cell_type": "code",
   "execution_count": null,
   "metadata": {},
   "outputs": [],
   "source": [
    "analogy('obama', 'clinton', 'reagan')"
   ]
  },
  {
   "cell_type": "code",
   "execution_count": null,
   "metadata": {},
   "outputs": [],
   "source": [
    "analogy('tall', 'tallest', 'long')"
   ]
  },
  {
   "cell_type": "code",
   "execution_count": null,
   "metadata": {},
   "outputs": [],
   "source": [
    "analogy('good', 'fantastic', 'bad')"
   ]
  },
  {
   "cell_type": "code",
   "execution_count": 131,
   "metadata": {},
   "outputs": [
    {
     "name": "stdout",
     "output_type": "stream",
     "text": [
      "cereal\n"
     ]
    },
    {
     "name": "stderr",
     "output_type": "stream",
     "text": [
      "C:\\Users\\User\\Anaconda3\\lib\\site-packages\\gensim\\models\\keyedvectors.py:877: FutureWarning: arrays to stack must be passed as a \"sequence\" type such as list or tuple. Support for non-sequence iterables such as generators is deprecated as of NumPy 1.16 and will raise an error in the future.\n",
      "  vectors = vstack(self.word_vec(word, use_norm=True) for word in used_words).astype(REAL)\n"
     ]
    }
   ],
   "source": [
    "print(model.doesnt_match(\"breakfast cereal dinner lunch\".split()))"
   ]
  },
  {
   "cell_type": "code",
   "execution_count": 136,
   "metadata": {},
   "outputs": [],
   "source": [
    "def display_pca_scatterplot(model, words=None, sample=0):\n",
    "    if words == None:\n",
    "        if sample > 0:\n",
    "            words = np.random.choice(list(model.vocab.keys()), sample)\n",
    "        else:\n",
    "            words = [ word for word in model.vocab ]\n",
    "        \n",
    "    word_vectors = np.array([model[w] for w in words])\n",
    "\n",
    "    twodim = PCA().fit_transform(word_vectors)[:,:2]\n",
    "    \n",
    "    plt.figure(figsize=(6,6))\n",
    "    plt.scatter(twodim[:,0], twodim[:,1], edgecolors='k', c='r')\n",
    "    for word, (x,y) in zip(words, twodim):\n",
    "        plt.text(x+0.05, y+0.05, word)"
   ]
  },
  {
   "cell_type": "code",
   "execution_count": null,
   "metadata": {},
   "outputs": [],
   "source": []
  },
  {
   "cell_type": "code",
   "execution_count": 137,
   "metadata": {},
   "outputs": [
    {
     "data": {
      "application/javascript": [
       "/* Put everything inside the global mpl namespace */\n",
       "window.mpl = {};\n",
       "\n",
       "\n",
       "mpl.get_websocket_type = function() {\n",
       "    if (typeof(WebSocket) !== 'undefined') {\n",
       "        return WebSocket;\n",
       "    } else if (typeof(MozWebSocket) !== 'undefined') {\n",
       "        return MozWebSocket;\n",
       "    } else {\n",
       "        alert('Your browser does not have WebSocket support.' +\n",
       "              'Please try Chrome, Safari or Firefox ≥ 6. ' +\n",
       "              'Firefox 4 and 5 are also supported but you ' +\n",
       "              'have to enable WebSockets in about:config.');\n",
       "    };\n",
       "}\n",
       "\n",
       "mpl.figure = function(figure_id, websocket, ondownload, parent_element) {\n",
       "    this.id = figure_id;\n",
       "\n",
       "    this.ws = websocket;\n",
       "\n",
       "    this.supports_binary = (this.ws.binaryType != undefined);\n",
       "\n",
       "    if (!this.supports_binary) {\n",
       "        var warnings = document.getElementById(\"mpl-warnings\");\n",
       "        if (warnings) {\n",
       "            warnings.style.display = 'block';\n",
       "            warnings.textContent = (\n",
       "                \"This browser does not support binary websocket messages. \" +\n",
       "                    \"Performance may be slow.\");\n",
       "        }\n",
       "    }\n",
       "\n",
       "    this.imageObj = new Image();\n",
       "\n",
       "    this.context = undefined;\n",
       "    this.message = undefined;\n",
       "    this.canvas = undefined;\n",
       "    this.rubberband_canvas = undefined;\n",
       "    this.rubberband_context = undefined;\n",
       "    this.format_dropdown = undefined;\n",
       "\n",
       "    this.image_mode = 'full';\n",
       "\n",
       "    this.root = $('<div/>');\n",
       "    this._root_extra_style(this.root)\n",
       "    this.root.attr('style', 'display: inline-block');\n",
       "\n",
       "    $(parent_element).append(this.root);\n",
       "\n",
       "    this._init_header(this);\n",
       "    this._init_canvas(this);\n",
       "    this._init_toolbar(this);\n",
       "\n",
       "    var fig = this;\n",
       "\n",
       "    this.waiting = false;\n",
       "\n",
       "    this.ws.onopen =  function () {\n",
       "            fig.send_message(\"supports_binary\", {value: fig.supports_binary});\n",
       "            fig.send_message(\"send_image_mode\", {});\n",
       "            if (mpl.ratio != 1) {\n",
       "                fig.send_message(\"set_dpi_ratio\", {'dpi_ratio': mpl.ratio});\n",
       "            }\n",
       "            fig.send_message(\"refresh\", {});\n",
       "        }\n",
       "\n",
       "    this.imageObj.onload = function() {\n",
       "            if (fig.image_mode == 'full') {\n",
       "                // Full images could contain transparency (where diff images\n",
       "                // almost always do), so we need to clear the canvas so that\n",
       "                // there is no ghosting.\n",
       "                fig.context.clearRect(0, 0, fig.canvas.width, fig.canvas.height);\n",
       "            }\n",
       "            fig.context.drawImage(fig.imageObj, 0, 0);\n",
       "        };\n",
       "\n",
       "    this.imageObj.onunload = function() {\n",
       "        fig.ws.close();\n",
       "    }\n",
       "\n",
       "    this.ws.onmessage = this._make_on_message_function(this);\n",
       "\n",
       "    this.ondownload = ondownload;\n",
       "}\n",
       "\n",
       "mpl.figure.prototype._init_header = function() {\n",
       "    var titlebar = $(\n",
       "        '<div class=\"ui-dialog-titlebar ui-widget-header ui-corner-all ' +\n",
       "        'ui-helper-clearfix\"/>');\n",
       "    var titletext = $(\n",
       "        '<div class=\"ui-dialog-title\" style=\"width: 100%; ' +\n",
       "        'text-align: center; padding: 3px;\"/>');\n",
       "    titlebar.append(titletext)\n",
       "    this.root.append(titlebar);\n",
       "    this.header = titletext[0];\n",
       "}\n",
       "\n",
       "\n",
       "\n",
       "mpl.figure.prototype._canvas_extra_style = function(canvas_div) {\n",
       "\n",
       "}\n",
       "\n",
       "\n",
       "mpl.figure.prototype._root_extra_style = function(canvas_div) {\n",
       "\n",
       "}\n",
       "\n",
       "mpl.figure.prototype._init_canvas = function() {\n",
       "    var fig = this;\n",
       "\n",
       "    var canvas_div = $('<div/>');\n",
       "\n",
       "    canvas_div.attr('style', 'position: relative; clear: both; outline: 0');\n",
       "\n",
       "    function canvas_keyboard_event(event) {\n",
       "        return fig.key_event(event, event['data']);\n",
       "    }\n",
       "\n",
       "    canvas_div.keydown('key_press', canvas_keyboard_event);\n",
       "    canvas_div.keyup('key_release', canvas_keyboard_event);\n",
       "    this.canvas_div = canvas_div\n",
       "    this._canvas_extra_style(canvas_div)\n",
       "    this.root.append(canvas_div);\n",
       "\n",
       "    var canvas = $('<canvas/>');\n",
       "    canvas.addClass('mpl-canvas');\n",
       "    canvas.attr('style', \"left: 0; top: 0; z-index: 0; outline: 0\")\n",
       "\n",
       "    this.canvas = canvas[0];\n",
       "    this.context = canvas[0].getContext(\"2d\");\n",
       "\n",
       "    var backingStore = this.context.backingStorePixelRatio ||\n",
       "\tthis.context.webkitBackingStorePixelRatio ||\n",
       "\tthis.context.mozBackingStorePixelRatio ||\n",
       "\tthis.context.msBackingStorePixelRatio ||\n",
       "\tthis.context.oBackingStorePixelRatio ||\n",
       "\tthis.context.backingStorePixelRatio || 1;\n",
       "\n",
       "    mpl.ratio = (window.devicePixelRatio || 1) / backingStore;\n",
       "\n",
       "    var rubberband = $('<canvas/>');\n",
       "    rubberband.attr('style', \"position: absolute; left: 0; top: 0; z-index: 1;\")\n",
       "\n",
       "    var pass_mouse_events = true;\n",
       "\n",
       "    canvas_div.resizable({\n",
       "        start: function(event, ui) {\n",
       "            pass_mouse_events = false;\n",
       "        },\n",
       "        resize: function(event, ui) {\n",
       "            fig.request_resize(ui.size.width, ui.size.height);\n",
       "        },\n",
       "        stop: function(event, ui) {\n",
       "            pass_mouse_events = true;\n",
       "            fig.request_resize(ui.size.width, ui.size.height);\n",
       "        },\n",
       "    });\n",
       "\n",
       "    function mouse_event_fn(event) {\n",
       "        if (pass_mouse_events)\n",
       "            return fig.mouse_event(event, event['data']);\n",
       "    }\n",
       "\n",
       "    rubberband.mousedown('button_press', mouse_event_fn);\n",
       "    rubberband.mouseup('button_release', mouse_event_fn);\n",
       "    // Throttle sequential mouse events to 1 every 20ms.\n",
       "    rubberband.mousemove('motion_notify', mouse_event_fn);\n",
       "\n",
       "    rubberband.mouseenter('figure_enter', mouse_event_fn);\n",
       "    rubberband.mouseleave('figure_leave', mouse_event_fn);\n",
       "\n",
       "    canvas_div.on(\"wheel\", function (event) {\n",
       "        event = event.originalEvent;\n",
       "        event['data'] = 'scroll'\n",
       "        if (event.deltaY < 0) {\n",
       "            event.step = 1;\n",
       "        } else {\n",
       "            event.step = -1;\n",
       "        }\n",
       "        mouse_event_fn(event);\n",
       "    });\n",
       "\n",
       "    canvas_div.append(canvas);\n",
       "    canvas_div.append(rubberband);\n",
       "\n",
       "    this.rubberband = rubberband;\n",
       "    this.rubberband_canvas = rubberband[0];\n",
       "    this.rubberband_context = rubberband[0].getContext(\"2d\");\n",
       "    this.rubberband_context.strokeStyle = \"#000000\";\n",
       "\n",
       "    this._resize_canvas = function(width, height) {\n",
       "        // Keep the size of the canvas, canvas container, and rubber band\n",
       "        // canvas in synch.\n",
       "        canvas_div.css('width', width)\n",
       "        canvas_div.css('height', height)\n",
       "\n",
       "        canvas.attr('width', width * mpl.ratio);\n",
       "        canvas.attr('height', height * mpl.ratio);\n",
       "        canvas.attr('style', 'width: ' + width + 'px; height: ' + height + 'px;');\n",
       "\n",
       "        rubberband.attr('width', width);\n",
       "        rubberband.attr('height', height);\n",
       "    }\n",
       "\n",
       "    // Set the figure to an initial 600x600px, this will subsequently be updated\n",
       "    // upon first draw.\n",
       "    this._resize_canvas(600, 600);\n",
       "\n",
       "    // Disable right mouse context menu.\n",
       "    $(this.rubberband_canvas).bind(\"contextmenu\",function(e){\n",
       "        return false;\n",
       "    });\n",
       "\n",
       "    function set_focus () {\n",
       "        canvas.focus();\n",
       "        canvas_div.focus();\n",
       "    }\n",
       "\n",
       "    window.setTimeout(set_focus, 100);\n",
       "}\n",
       "\n",
       "mpl.figure.prototype._init_toolbar = function() {\n",
       "    var fig = this;\n",
       "\n",
       "    var nav_element = $('<div/>')\n",
       "    nav_element.attr('style', 'width: 100%');\n",
       "    this.root.append(nav_element);\n",
       "\n",
       "    // Define a callback function for later on.\n",
       "    function toolbar_event(event) {\n",
       "        return fig.toolbar_button_onclick(event['data']);\n",
       "    }\n",
       "    function toolbar_mouse_event(event) {\n",
       "        return fig.toolbar_button_onmouseover(event['data']);\n",
       "    }\n",
       "\n",
       "    for(var toolbar_ind in mpl.toolbar_items) {\n",
       "        var name = mpl.toolbar_items[toolbar_ind][0];\n",
       "        var tooltip = mpl.toolbar_items[toolbar_ind][1];\n",
       "        var image = mpl.toolbar_items[toolbar_ind][2];\n",
       "        var method_name = mpl.toolbar_items[toolbar_ind][3];\n",
       "\n",
       "        if (!name) {\n",
       "            // put a spacer in here.\n",
       "            continue;\n",
       "        }\n",
       "        var button = $('<button/>');\n",
       "        button.addClass('ui-button ui-widget ui-state-default ui-corner-all ' +\n",
       "                        'ui-button-icon-only');\n",
       "        button.attr('role', 'button');\n",
       "        button.attr('aria-disabled', 'false');\n",
       "        button.click(method_name, toolbar_event);\n",
       "        button.mouseover(tooltip, toolbar_mouse_event);\n",
       "\n",
       "        var icon_img = $('<span/>');\n",
       "        icon_img.addClass('ui-button-icon-primary ui-icon');\n",
       "        icon_img.addClass(image);\n",
       "        icon_img.addClass('ui-corner-all');\n",
       "\n",
       "        var tooltip_span = $('<span/>');\n",
       "        tooltip_span.addClass('ui-button-text');\n",
       "        tooltip_span.html(tooltip);\n",
       "\n",
       "        button.append(icon_img);\n",
       "        button.append(tooltip_span);\n",
       "\n",
       "        nav_element.append(button);\n",
       "    }\n",
       "\n",
       "    var fmt_picker_span = $('<span/>');\n",
       "\n",
       "    var fmt_picker = $('<select/>');\n",
       "    fmt_picker.addClass('mpl-toolbar-option ui-widget ui-widget-content');\n",
       "    fmt_picker_span.append(fmt_picker);\n",
       "    nav_element.append(fmt_picker_span);\n",
       "    this.format_dropdown = fmt_picker[0];\n",
       "\n",
       "    for (var ind in mpl.extensions) {\n",
       "        var fmt = mpl.extensions[ind];\n",
       "        var option = $(\n",
       "            '<option/>', {selected: fmt === mpl.default_extension}).html(fmt);\n",
       "        fmt_picker.append(option)\n",
       "    }\n",
       "\n",
       "    // Add hover states to the ui-buttons\n",
       "    $( \".ui-button\" ).hover(\n",
       "        function() { $(this).addClass(\"ui-state-hover\");},\n",
       "        function() { $(this).removeClass(\"ui-state-hover\");}\n",
       "    );\n",
       "\n",
       "    var status_bar = $('<span class=\"mpl-message\"/>');\n",
       "    nav_element.append(status_bar);\n",
       "    this.message = status_bar[0];\n",
       "}\n",
       "\n",
       "mpl.figure.prototype.request_resize = function(x_pixels, y_pixels) {\n",
       "    // Request matplotlib to resize the figure. Matplotlib will then trigger a resize in the client,\n",
       "    // which will in turn request a refresh of the image.\n",
       "    this.send_message('resize', {'width': x_pixels, 'height': y_pixels});\n",
       "}\n",
       "\n",
       "mpl.figure.prototype.send_message = function(type, properties) {\n",
       "    properties['type'] = type;\n",
       "    properties['figure_id'] = this.id;\n",
       "    this.ws.send(JSON.stringify(properties));\n",
       "}\n",
       "\n",
       "mpl.figure.prototype.send_draw_message = function() {\n",
       "    if (!this.waiting) {\n",
       "        this.waiting = true;\n",
       "        this.ws.send(JSON.stringify({type: \"draw\", figure_id: this.id}));\n",
       "    }\n",
       "}\n",
       "\n",
       "\n",
       "mpl.figure.prototype.handle_save = function(fig, msg) {\n",
       "    var format_dropdown = fig.format_dropdown;\n",
       "    var format = format_dropdown.options[format_dropdown.selectedIndex].value;\n",
       "    fig.ondownload(fig, format);\n",
       "}\n",
       "\n",
       "\n",
       "mpl.figure.prototype.handle_resize = function(fig, msg) {\n",
       "    var size = msg['size'];\n",
       "    if (size[0] != fig.canvas.width || size[1] != fig.canvas.height) {\n",
       "        fig._resize_canvas(size[0], size[1]);\n",
       "        fig.send_message(\"refresh\", {});\n",
       "    };\n",
       "}\n",
       "\n",
       "mpl.figure.prototype.handle_rubberband = function(fig, msg) {\n",
       "    var x0 = msg['x0'] / mpl.ratio;\n",
       "    var y0 = (fig.canvas.height - msg['y0']) / mpl.ratio;\n",
       "    var x1 = msg['x1'] / mpl.ratio;\n",
       "    var y1 = (fig.canvas.height - msg['y1']) / mpl.ratio;\n",
       "    x0 = Math.floor(x0) + 0.5;\n",
       "    y0 = Math.floor(y0) + 0.5;\n",
       "    x1 = Math.floor(x1) + 0.5;\n",
       "    y1 = Math.floor(y1) + 0.5;\n",
       "    var min_x = Math.min(x0, x1);\n",
       "    var min_y = Math.min(y0, y1);\n",
       "    var width = Math.abs(x1 - x0);\n",
       "    var height = Math.abs(y1 - y0);\n",
       "\n",
       "    fig.rubberband_context.clearRect(\n",
       "        0, 0, fig.canvas.width, fig.canvas.height);\n",
       "\n",
       "    fig.rubberband_context.strokeRect(min_x, min_y, width, height);\n",
       "}\n",
       "\n",
       "mpl.figure.prototype.handle_figure_label = function(fig, msg) {\n",
       "    // Updates the figure title.\n",
       "    fig.header.textContent = msg['label'];\n",
       "}\n",
       "\n",
       "mpl.figure.prototype.handle_cursor = function(fig, msg) {\n",
       "    var cursor = msg['cursor'];\n",
       "    switch(cursor)\n",
       "    {\n",
       "    case 0:\n",
       "        cursor = 'pointer';\n",
       "        break;\n",
       "    case 1:\n",
       "        cursor = 'default';\n",
       "        break;\n",
       "    case 2:\n",
       "        cursor = 'crosshair';\n",
       "        break;\n",
       "    case 3:\n",
       "        cursor = 'move';\n",
       "        break;\n",
       "    }\n",
       "    fig.rubberband_canvas.style.cursor = cursor;\n",
       "}\n",
       "\n",
       "mpl.figure.prototype.handle_message = function(fig, msg) {\n",
       "    fig.message.textContent = msg['message'];\n",
       "}\n",
       "\n",
       "mpl.figure.prototype.handle_draw = function(fig, msg) {\n",
       "    // Request the server to send over a new figure.\n",
       "    fig.send_draw_message();\n",
       "}\n",
       "\n",
       "mpl.figure.prototype.handle_image_mode = function(fig, msg) {\n",
       "    fig.image_mode = msg['mode'];\n",
       "}\n",
       "\n",
       "mpl.figure.prototype.updated_canvas_event = function() {\n",
       "    // Called whenever the canvas gets updated.\n",
       "    this.send_message(\"ack\", {});\n",
       "}\n",
       "\n",
       "// A function to construct a web socket function for onmessage handling.\n",
       "// Called in the figure constructor.\n",
       "mpl.figure.prototype._make_on_message_function = function(fig) {\n",
       "    return function socket_on_message(evt) {\n",
       "        if (evt.data instanceof Blob) {\n",
       "            /* FIXME: We get \"Resource interpreted as Image but\n",
       "             * transferred with MIME type text/plain:\" errors on\n",
       "             * Chrome.  But how to set the MIME type?  It doesn't seem\n",
       "             * to be part of the websocket stream */\n",
       "            evt.data.type = \"image/png\";\n",
       "\n",
       "            /* Free the memory for the previous frames */\n",
       "            if (fig.imageObj.src) {\n",
       "                (window.URL || window.webkitURL).revokeObjectURL(\n",
       "                    fig.imageObj.src);\n",
       "            }\n",
       "\n",
       "            fig.imageObj.src = (window.URL || window.webkitURL).createObjectURL(\n",
       "                evt.data);\n",
       "            fig.updated_canvas_event();\n",
       "            fig.waiting = false;\n",
       "            return;\n",
       "        }\n",
       "        else if (typeof evt.data === 'string' && evt.data.slice(0, 21) == \"data:image/png;base64\") {\n",
       "            fig.imageObj.src = evt.data;\n",
       "            fig.updated_canvas_event();\n",
       "            fig.waiting = false;\n",
       "            return;\n",
       "        }\n",
       "\n",
       "        var msg = JSON.parse(evt.data);\n",
       "        var msg_type = msg['type'];\n",
       "\n",
       "        // Call the  \"handle_{type}\" callback, which takes\n",
       "        // the figure and JSON message as its only arguments.\n",
       "        try {\n",
       "            var callback = fig[\"handle_\" + msg_type];\n",
       "        } catch (e) {\n",
       "            console.log(\"No handler for the '\" + msg_type + \"' message type: \", msg);\n",
       "            return;\n",
       "        }\n",
       "\n",
       "        if (callback) {\n",
       "            try {\n",
       "                // console.log(\"Handling '\" + msg_type + \"' message: \", msg);\n",
       "                callback(fig, msg);\n",
       "            } catch (e) {\n",
       "                console.log(\"Exception inside the 'handler_\" + msg_type + \"' callback:\", e, e.stack, msg);\n",
       "            }\n",
       "        }\n",
       "    };\n",
       "}\n",
       "\n",
       "// from http://stackoverflow.com/questions/1114465/getting-mouse-location-in-canvas\n",
       "mpl.findpos = function(e) {\n",
       "    //this section is from http://www.quirksmode.org/js/events_properties.html\n",
       "    var targ;\n",
       "    if (!e)\n",
       "        e = window.event;\n",
       "    if (e.target)\n",
       "        targ = e.target;\n",
       "    else if (e.srcElement)\n",
       "        targ = e.srcElement;\n",
       "    if (targ.nodeType == 3) // defeat Safari bug\n",
       "        targ = targ.parentNode;\n",
       "\n",
       "    // jQuery normalizes the pageX and pageY\n",
       "    // pageX,Y are the mouse positions relative to the document\n",
       "    // offset() returns the position of the element relative to the document\n",
       "    var x = e.pageX - $(targ).offset().left;\n",
       "    var y = e.pageY - $(targ).offset().top;\n",
       "\n",
       "    return {\"x\": x, \"y\": y};\n",
       "};\n",
       "\n",
       "/*\n",
       " * return a copy of an object with only non-object keys\n",
       " * we need this to avoid circular references\n",
       " * http://stackoverflow.com/a/24161582/3208463\n",
       " */\n",
       "function simpleKeys (original) {\n",
       "  return Object.keys(original).reduce(function (obj, key) {\n",
       "    if (typeof original[key] !== 'object')\n",
       "        obj[key] = original[key]\n",
       "    return obj;\n",
       "  }, {});\n",
       "}\n",
       "\n",
       "mpl.figure.prototype.mouse_event = function(event, name) {\n",
       "    var canvas_pos = mpl.findpos(event)\n",
       "\n",
       "    if (name === 'button_press')\n",
       "    {\n",
       "        this.canvas.focus();\n",
       "        this.canvas_div.focus();\n",
       "    }\n",
       "\n",
       "    var x = canvas_pos.x * mpl.ratio;\n",
       "    var y = canvas_pos.y * mpl.ratio;\n",
       "\n",
       "    this.send_message(name, {x: x, y: y, button: event.button,\n",
       "                             step: event.step,\n",
       "                             guiEvent: simpleKeys(event)});\n",
       "\n",
       "    /* This prevents the web browser from automatically changing to\n",
       "     * the text insertion cursor when the button is pressed.  We want\n",
       "     * to control all of the cursor setting manually through the\n",
       "     * 'cursor' event from matplotlib */\n",
       "    event.preventDefault();\n",
       "    return false;\n",
       "}\n",
       "\n",
       "mpl.figure.prototype._key_event_extra = function(event, name) {\n",
       "    // Handle any extra behaviour associated with a key event\n",
       "}\n",
       "\n",
       "mpl.figure.prototype.key_event = function(event, name) {\n",
       "\n",
       "    // Prevent repeat events\n",
       "    if (name == 'key_press')\n",
       "    {\n",
       "        if (event.which === this._key)\n",
       "            return;\n",
       "        else\n",
       "            this._key = event.which;\n",
       "    }\n",
       "    if (name == 'key_release')\n",
       "        this._key = null;\n",
       "\n",
       "    var value = '';\n",
       "    if (event.ctrlKey && event.which != 17)\n",
       "        value += \"ctrl+\";\n",
       "    if (event.altKey && event.which != 18)\n",
       "        value += \"alt+\";\n",
       "    if (event.shiftKey && event.which != 16)\n",
       "        value += \"shift+\";\n",
       "\n",
       "    value += 'k';\n",
       "    value += event.which.toString();\n",
       "\n",
       "    this._key_event_extra(event, name);\n",
       "\n",
       "    this.send_message(name, {key: value,\n",
       "                             guiEvent: simpleKeys(event)});\n",
       "    return false;\n",
       "}\n",
       "\n",
       "mpl.figure.prototype.toolbar_button_onclick = function(name) {\n",
       "    if (name == 'download') {\n",
       "        this.handle_save(this, null);\n",
       "    } else {\n",
       "        this.send_message(\"toolbar_button\", {name: name});\n",
       "    }\n",
       "};\n",
       "\n",
       "mpl.figure.prototype.toolbar_button_onmouseover = function(tooltip) {\n",
       "    this.message.textContent = tooltip;\n",
       "};\n",
       "mpl.toolbar_items = [[\"Home\", \"Reset original view\", \"fa fa-home icon-home\", \"home\"], [\"Back\", \"Back to previous view\", \"fa fa-arrow-left icon-arrow-left\", \"back\"], [\"Forward\", \"Forward to next view\", \"fa fa-arrow-right icon-arrow-right\", \"forward\"], [\"\", \"\", \"\", \"\"], [\"Pan\", \"Pan axes with left mouse, zoom with right\", \"fa fa-arrows icon-move\", \"pan\"], [\"Zoom\", \"Zoom to rectangle\", \"fa fa-square-o icon-check-empty\", \"zoom\"], [\"\", \"\", \"\", \"\"], [\"Download\", \"Download plot\", \"fa fa-floppy-o icon-save\", \"download\"]];\n",
       "\n",
       "mpl.extensions = [\"eps\", \"jpeg\", \"pdf\", \"png\", \"ps\", \"raw\", \"svg\", \"tif\"];\n",
       "\n",
       "mpl.default_extension = \"png\";var comm_websocket_adapter = function(comm) {\n",
       "    // Create a \"websocket\"-like object which calls the given IPython comm\n",
       "    // object with the appropriate methods. Currently this is a non binary\n",
       "    // socket, so there is still some room for performance tuning.\n",
       "    var ws = {};\n",
       "\n",
       "    ws.close = function() {\n",
       "        comm.close()\n",
       "    };\n",
       "    ws.send = function(m) {\n",
       "        //console.log('sending', m);\n",
       "        comm.send(m);\n",
       "    };\n",
       "    // Register the callback with on_msg.\n",
       "    comm.on_msg(function(msg) {\n",
       "        //console.log('receiving', msg['content']['data'], msg);\n",
       "        // Pass the mpl event to the overridden (by mpl) onmessage function.\n",
       "        ws.onmessage(msg['content']['data'])\n",
       "    });\n",
       "    return ws;\n",
       "}\n",
       "\n",
       "mpl.mpl_figure_comm = function(comm, msg) {\n",
       "    // This is the function which gets called when the mpl process\n",
       "    // starts-up an IPython Comm through the \"matplotlib\" channel.\n",
       "\n",
       "    var id = msg.content.data.id;\n",
       "    // Get hold of the div created by the display call when the Comm\n",
       "    // socket was opened in Python.\n",
       "    var element = $(\"#\" + id);\n",
       "    var ws_proxy = comm_websocket_adapter(comm)\n",
       "\n",
       "    function ondownload(figure, format) {\n",
       "        window.open(figure.imageObj.src);\n",
       "    }\n",
       "\n",
       "    var fig = new mpl.figure(id, ws_proxy,\n",
       "                           ondownload,\n",
       "                           element.get(0));\n",
       "\n",
       "    // Call onopen now - mpl needs it, as it is assuming we've passed it a real\n",
       "    // web socket which is closed, not our websocket->open comm proxy.\n",
       "    ws_proxy.onopen();\n",
       "\n",
       "    fig.parent_element = element.get(0);\n",
       "    fig.cell_info = mpl.find_output_cell(\"<div id='\" + id + \"'></div>\");\n",
       "    if (!fig.cell_info) {\n",
       "        console.error(\"Failed to find cell for figure\", id, fig);\n",
       "        return;\n",
       "    }\n",
       "\n",
       "    var output_index = fig.cell_info[2]\n",
       "    var cell = fig.cell_info[0];\n",
       "\n",
       "};\n",
       "\n",
       "mpl.figure.prototype.handle_close = function(fig, msg) {\n",
       "    var width = fig.canvas.width/mpl.ratio\n",
       "    fig.root.unbind('remove')\n",
       "\n",
       "    // Update the output cell to use the data from the current canvas.\n",
       "    fig.push_to_output();\n",
       "    var dataURL = fig.canvas.toDataURL();\n",
       "    // Re-enable the keyboard manager in IPython - without this line, in FF,\n",
       "    // the notebook keyboard shortcuts fail.\n",
       "    IPython.keyboard_manager.enable()\n",
       "    $(fig.parent_element).html('<img src=\"' + dataURL + '\" width=\"' + width + '\">');\n",
       "    fig.close_ws(fig, msg);\n",
       "}\n",
       "\n",
       "mpl.figure.prototype.close_ws = function(fig, msg){\n",
       "    fig.send_message('closing', msg);\n",
       "    // fig.ws.close()\n",
       "}\n",
       "\n",
       "mpl.figure.prototype.push_to_output = function(remove_interactive) {\n",
       "    // Turn the data on the canvas into data in the output cell.\n",
       "    var width = this.canvas.width/mpl.ratio\n",
       "    var dataURL = this.canvas.toDataURL();\n",
       "    this.cell_info[1]['text/html'] = '<img src=\"' + dataURL + '\" width=\"' + width + '\">';\n",
       "}\n",
       "\n",
       "mpl.figure.prototype.updated_canvas_event = function() {\n",
       "    // Tell IPython that the notebook contents must change.\n",
       "    IPython.notebook.set_dirty(true);\n",
       "    this.send_message(\"ack\", {});\n",
       "    var fig = this;\n",
       "    // Wait a second, then push the new image to the DOM so\n",
       "    // that it is saved nicely (might be nice to debounce this).\n",
       "    setTimeout(function () { fig.push_to_output() }, 1000);\n",
       "}\n",
       "\n",
       "mpl.figure.prototype._init_toolbar = function() {\n",
       "    var fig = this;\n",
       "\n",
       "    var nav_element = $('<div/>')\n",
       "    nav_element.attr('style', 'width: 100%');\n",
       "    this.root.append(nav_element);\n",
       "\n",
       "    // Define a callback function for later on.\n",
       "    function toolbar_event(event) {\n",
       "        return fig.toolbar_button_onclick(event['data']);\n",
       "    }\n",
       "    function toolbar_mouse_event(event) {\n",
       "        return fig.toolbar_button_onmouseover(event['data']);\n",
       "    }\n",
       "\n",
       "    for(var toolbar_ind in mpl.toolbar_items){\n",
       "        var name = mpl.toolbar_items[toolbar_ind][0];\n",
       "        var tooltip = mpl.toolbar_items[toolbar_ind][1];\n",
       "        var image = mpl.toolbar_items[toolbar_ind][2];\n",
       "        var method_name = mpl.toolbar_items[toolbar_ind][3];\n",
       "\n",
       "        if (!name) { continue; };\n",
       "\n",
       "        var button = $('<button class=\"btn btn-default\" href=\"#\" title=\"' + name + '\"><i class=\"fa ' + image + ' fa-lg\"></i></button>');\n",
       "        button.click(method_name, toolbar_event);\n",
       "        button.mouseover(tooltip, toolbar_mouse_event);\n",
       "        nav_element.append(button);\n",
       "    }\n",
       "\n",
       "    // Add the status bar.\n",
       "    var status_bar = $('<span class=\"mpl-message\" style=\"text-align:right; float: right;\"/>');\n",
       "    nav_element.append(status_bar);\n",
       "    this.message = status_bar[0];\n",
       "\n",
       "    // Add the close button to the window.\n",
       "    var buttongrp = $('<div class=\"btn-group inline pull-right\"></div>');\n",
       "    var button = $('<button class=\"btn btn-mini btn-primary\" href=\"#\" title=\"Stop Interaction\"><i class=\"fa fa-power-off icon-remove icon-large\"></i></button>');\n",
       "    button.click(function (evt) { fig.handle_close(fig, {}); } );\n",
       "    button.mouseover('Stop Interaction', toolbar_mouse_event);\n",
       "    buttongrp.append(button);\n",
       "    var titlebar = this.root.find($('.ui-dialog-titlebar'));\n",
       "    titlebar.prepend(buttongrp);\n",
       "}\n",
       "\n",
       "mpl.figure.prototype._root_extra_style = function(el){\n",
       "    var fig = this\n",
       "    el.on(\"remove\", function(){\n",
       "\tfig.close_ws(fig, {});\n",
       "    });\n",
       "}\n",
       "\n",
       "mpl.figure.prototype._canvas_extra_style = function(el){\n",
       "    // this is important to make the div 'focusable\n",
       "    el.attr('tabindex', 0)\n",
       "    // reach out to IPython and tell the keyboard manager to turn it's self\n",
       "    // off when our div gets focus\n",
       "\n",
       "    // location in version 3\n",
       "    if (IPython.notebook.keyboard_manager) {\n",
       "        IPython.notebook.keyboard_manager.register_events(el);\n",
       "    }\n",
       "    else {\n",
       "        // location in version 2\n",
       "        IPython.keyboard_manager.register_events(el);\n",
       "    }\n",
       "\n",
       "}\n",
       "\n",
       "mpl.figure.prototype._key_event_extra = function(event, name) {\n",
       "    var manager = IPython.notebook.keyboard_manager;\n",
       "    if (!manager)\n",
       "        manager = IPython.keyboard_manager;\n",
       "\n",
       "    // Check for shift+enter\n",
       "    if (event.shiftKey && event.which == 13) {\n",
       "        this.canvas_div.blur();\n",
       "        event.shiftKey = false;\n",
       "        // Send a \"J\" for go to next cell\n",
       "        event.which = 74;\n",
       "        event.keyCode = 74;\n",
       "        manager.command_mode();\n",
       "        manager.handle_keydown(event);\n",
       "    }\n",
       "}\n",
       "\n",
       "mpl.figure.prototype.handle_save = function(fig, msg) {\n",
       "    fig.ondownload(fig, null);\n",
       "}\n",
       "\n",
       "\n",
       "mpl.find_output_cell = function(html_output) {\n",
       "    // Return the cell and output element which can be found *uniquely* in the notebook.\n",
       "    // Note - this is a bit hacky, but it is done because the \"notebook_saving.Notebook\"\n",
       "    // IPython event is triggered only after the cells have been serialised, which for\n",
       "    // our purposes (turning an active figure into a static one), is too late.\n",
       "    var cells = IPython.notebook.get_cells();\n",
       "    var ncells = cells.length;\n",
       "    for (var i=0; i<ncells; i++) {\n",
       "        var cell = cells[i];\n",
       "        if (cell.cell_type === 'code'){\n",
       "            for (var j=0; j<cell.output_area.outputs.length; j++) {\n",
       "                var data = cell.output_area.outputs[j];\n",
       "                if (data.data) {\n",
       "                    // IPython >= 3 moved mimebundle to data attribute of output\n",
       "                    data = data.data;\n",
       "                }\n",
       "                if (data['text/html'] == html_output) {\n",
       "                    return [cell, data, j];\n",
       "                }\n",
       "            }\n",
       "        }\n",
       "    }\n",
       "}\n",
       "\n",
       "// Register the function which deals with the matplotlib target/channel.\n",
       "// The kernel may be null if the page has been refreshed.\n",
       "if (IPython.notebook.kernel != null) {\n",
       "    IPython.notebook.kernel.comm_manager.register_target('matplotlib', mpl.mpl_figure_comm);\n",
       "}\n"
      ],
      "text/plain": [
       "<IPython.core.display.Javascript object>"
      ]
     },
     "metadata": {},
     "output_type": "display_data"
    },
    {
     "data": {
      "text/html": [
       "<img src=\"data:image/png;base64,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\" width=\"600\">"
      ],
      "text/plain": [
       "<IPython.core.display.HTML object>"
      ]
     },
     "metadata": {},
     "output_type": "display_data"
    }
   ],
   "source": [
    "display_pca_scatterplot(model, \n",
    "                        ['coffee', 'tea', 'beer', 'wine', 'brandy', 'rum', 'champagne', 'water',\n",
    "                         'spaghetti', 'borscht', 'hamburger', 'pizza', 'falafel', 'sushi', 'meatballs',\n",
    "                         'dog', 'horse', 'cat', 'monkey', 'parrot', 'koala', 'lizard',\n",
    "                         'frog', 'toad', 'monkey', 'ape', 'kangaroo', 'wombat', 'wolf',\n",
    "                         'france', 'germany', 'hungary', 'luxembourg', 'australia', 'fiji', 'china',\n",
    "                         'homework', 'assignment', 'problem', 'exam', 'test', 'class',\n",
    "                         'school', 'college', 'university', 'institute'])"
   ]
  },
  {
   "cell_type": "code",
   "execution_count": 138,
   "metadata": {},
   "outputs": [
    {
     "data": {
      "application/javascript": [
       "/* Put everything inside the global mpl namespace */\n",
       "window.mpl = {};\n",
       "\n",
       "\n",
       "mpl.get_websocket_type = function() {\n",
       "    if (typeof(WebSocket) !== 'undefined') {\n",
       "        return WebSocket;\n",
       "    } else if (typeof(MozWebSocket) !== 'undefined') {\n",
       "        return MozWebSocket;\n",
       "    } else {\n",
       "        alert('Your browser does not have WebSocket support.' +\n",
       "              'Please try Chrome, Safari or Firefox ≥ 6. ' +\n",
       "              'Firefox 4 and 5 are also supported but you ' +\n",
       "              'have to enable WebSockets in about:config.');\n",
       "    };\n",
       "}\n",
       "\n",
       "mpl.figure = function(figure_id, websocket, ondownload, parent_element) {\n",
       "    this.id = figure_id;\n",
       "\n",
       "    this.ws = websocket;\n",
       "\n",
       "    this.supports_binary = (this.ws.binaryType != undefined);\n",
       "\n",
       "    if (!this.supports_binary) {\n",
       "        var warnings = document.getElementById(\"mpl-warnings\");\n",
       "        if (warnings) {\n",
       "            warnings.style.display = 'block';\n",
       "            warnings.textContent = (\n",
       "                \"This browser does not support binary websocket messages. \" +\n",
       "                    \"Performance may be slow.\");\n",
       "        }\n",
       "    }\n",
       "\n",
       "    this.imageObj = new Image();\n",
       "\n",
       "    this.context = undefined;\n",
       "    this.message = undefined;\n",
       "    this.canvas = undefined;\n",
       "    this.rubberband_canvas = undefined;\n",
       "    this.rubberband_context = undefined;\n",
       "    this.format_dropdown = undefined;\n",
       "\n",
       "    this.image_mode = 'full';\n",
       "\n",
       "    this.root = $('<div/>');\n",
       "    this._root_extra_style(this.root)\n",
       "    this.root.attr('style', 'display: inline-block');\n",
       "\n",
       "    $(parent_element).append(this.root);\n",
       "\n",
       "    this._init_header(this);\n",
       "    this._init_canvas(this);\n",
       "    this._init_toolbar(this);\n",
       "\n",
       "    var fig = this;\n",
       "\n",
       "    this.waiting = false;\n",
       "\n",
       "    this.ws.onopen =  function () {\n",
       "            fig.send_message(\"supports_binary\", {value: fig.supports_binary});\n",
       "            fig.send_message(\"send_image_mode\", {});\n",
       "            if (mpl.ratio != 1) {\n",
       "                fig.send_message(\"set_dpi_ratio\", {'dpi_ratio': mpl.ratio});\n",
       "            }\n",
       "            fig.send_message(\"refresh\", {});\n",
       "        }\n",
       "\n",
       "    this.imageObj.onload = function() {\n",
       "            if (fig.image_mode == 'full') {\n",
       "                // Full images could contain transparency (where diff images\n",
       "                // almost always do), so we need to clear the canvas so that\n",
       "                // there is no ghosting.\n",
       "                fig.context.clearRect(0, 0, fig.canvas.width, fig.canvas.height);\n",
       "            }\n",
       "            fig.context.drawImage(fig.imageObj, 0, 0);\n",
       "        };\n",
       "\n",
       "    this.imageObj.onunload = function() {\n",
       "        fig.ws.close();\n",
       "    }\n",
       "\n",
       "    this.ws.onmessage = this._make_on_message_function(this);\n",
       "\n",
       "    this.ondownload = ondownload;\n",
       "}\n",
       "\n",
       "mpl.figure.prototype._init_header = function() {\n",
       "    var titlebar = $(\n",
       "        '<div class=\"ui-dialog-titlebar ui-widget-header ui-corner-all ' +\n",
       "        'ui-helper-clearfix\"/>');\n",
       "    var titletext = $(\n",
       "        '<div class=\"ui-dialog-title\" style=\"width: 100%; ' +\n",
       "        'text-align: center; padding: 3px;\"/>');\n",
       "    titlebar.append(titletext)\n",
       "    this.root.append(titlebar);\n",
       "    this.header = titletext[0];\n",
       "}\n",
       "\n",
       "\n",
       "\n",
       "mpl.figure.prototype._canvas_extra_style = function(canvas_div) {\n",
       "\n",
       "}\n",
       "\n",
       "\n",
       "mpl.figure.prototype._root_extra_style = function(canvas_div) {\n",
       "\n",
       "}\n",
       "\n",
       "mpl.figure.prototype._init_canvas = function() {\n",
       "    var fig = this;\n",
       "\n",
       "    var canvas_div = $('<div/>');\n",
       "\n",
       "    canvas_div.attr('style', 'position: relative; clear: both; outline: 0');\n",
       "\n",
       "    function canvas_keyboard_event(event) {\n",
       "        return fig.key_event(event, event['data']);\n",
       "    }\n",
       "\n",
       "    canvas_div.keydown('key_press', canvas_keyboard_event);\n",
       "    canvas_div.keyup('key_release', canvas_keyboard_event);\n",
       "    this.canvas_div = canvas_div\n",
       "    this._canvas_extra_style(canvas_div)\n",
       "    this.root.append(canvas_div);\n",
       "\n",
       "    var canvas = $('<canvas/>');\n",
       "    canvas.addClass('mpl-canvas');\n",
       "    canvas.attr('style', \"left: 0; top: 0; z-index: 0; outline: 0\")\n",
       "\n",
       "    this.canvas = canvas[0];\n",
       "    this.context = canvas[0].getContext(\"2d\");\n",
       "\n",
       "    var backingStore = this.context.backingStorePixelRatio ||\n",
       "\tthis.context.webkitBackingStorePixelRatio ||\n",
       "\tthis.context.mozBackingStorePixelRatio ||\n",
       "\tthis.context.msBackingStorePixelRatio ||\n",
       "\tthis.context.oBackingStorePixelRatio ||\n",
       "\tthis.context.backingStorePixelRatio || 1;\n",
       "\n",
       "    mpl.ratio = (window.devicePixelRatio || 1) / backingStore;\n",
       "\n",
       "    var rubberband = $('<canvas/>');\n",
       "    rubberband.attr('style', \"position: absolute; left: 0; top: 0; z-index: 1;\")\n",
       "\n",
       "    var pass_mouse_events = true;\n",
       "\n",
       "    canvas_div.resizable({\n",
       "        start: function(event, ui) {\n",
       "            pass_mouse_events = false;\n",
       "        },\n",
       "        resize: function(event, ui) {\n",
       "            fig.request_resize(ui.size.width, ui.size.height);\n",
       "        },\n",
       "        stop: function(event, ui) {\n",
       "            pass_mouse_events = true;\n",
       "            fig.request_resize(ui.size.width, ui.size.height);\n",
       "        },\n",
       "    });\n",
       "\n",
       "    function mouse_event_fn(event) {\n",
       "        if (pass_mouse_events)\n",
       "            return fig.mouse_event(event, event['data']);\n",
       "    }\n",
       "\n",
       "    rubberband.mousedown('button_press', mouse_event_fn);\n",
       "    rubberband.mouseup('button_release', mouse_event_fn);\n",
       "    // Throttle sequential mouse events to 1 every 20ms.\n",
       "    rubberband.mousemove('motion_notify', mouse_event_fn);\n",
       "\n",
       "    rubberband.mouseenter('figure_enter', mouse_event_fn);\n",
       "    rubberband.mouseleave('figure_leave', mouse_event_fn);\n",
       "\n",
       "    canvas_div.on(\"wheel\", function (event) {\n",
       "        event = event.originalEvent;\n",
       "        event['data'] = 'scroll'\n",
       "        if (event.deltaY < 0) {\n",
       "            event.step = 1;\n",
       "        } else {\n",
       "            event.step = -1;\n",
       "        }\n",
       "        mouse_event_fn(event);\n",
       "    });\n",
       "\n",
       "    canvas_div.append(canvas);\n",
       "    canvas_div.append(rubberband);\n",
       "\n",
       "    this.rubberband = rubberband;\n",
       "    this.rubberband_canvas = rubberband[0];\n",
       "    this.rubberband_context = rubberband[0].getContext(\"2d\");\n",
       "    this.rubberband_context.strokeStyle = \"#000000\";\n",
       "\n",
       "    this._resize_canvas = function(width, height) {\n",
       "        // Keep the size of the canvas, canvas container, and rubber band\n",
       "        // canvas in synch.\n",
       "        canvas_div.css('width', width)\n",
       "        canvas_div.css('height', height)\n",
       "\n",
       "        canvas.attr('width', width * mpl.ratio);\n",
       "        canvas.attr('height', height * mpl.ratio);\n",
       "        canvas.attr('style', 'width: ' + width + 'px; height: ' + height + 'px;');\n",
       "\n",
       "        rubberband.attr('width', width);\n",
       "        rubberband.attr('height', height);\n",
       "    }\n",
       "\n",
       "    // Set the figure to an initial 600x600px, this will subsequently be updated\n",
       "    // upon first draw.\n",
       "    this._resize_canvas(600, 600);\n",
       "\n",
       "    // Disable right mouse context menu.\n",
       "    $(this.rubberband_canvas).bind(\"contextmenu\",function(e){\n",
       "        return false;\n",
       "    });\n",
       "\n",
       "    function set_focus () {\n",
       "        canvas.focus();\n",
       "        canvas_div.focus();\n",
       "    }\n",
       "\n",
       "    window.setTimeout(set_focus, 100);\n",
       "}\n",
       "\n",
       "mpl.figure.prototype._init_toolbar = function() {\n",
       "    var fig = this;\n",
       "\n",
       "    var nav_element = $('<div/>')\n",
       "    nav_element.attr('style', 'width: 100%');\n",
       "    this.root.append(nav_element);\n",
       "\n",
       "    // Define a callback function for later on.\n",
       "    function toolbar_event(event) {\n",
       "        return fig.toolbar_button_onclick(event['data']);\n",
       "    }\n",
       "    function toolbar_mouse_event(event) {\n",
       "        return fig.toolbar_button_onmouseover(event['data']);\n",
       "    }\n",
       "\n",
       "    for(var toolbar_ind in mpl.toolbar_items) {\n",
       "        var name = mpl.toolbar_items[toolbar_ind][0];\n",
       "        var tooltip = mpl.toolbar_items[toolbar_ind][1];\n",
       "        var image = mpl.toolbar_items[toolbar_ind][2];\n",
       "        var method_name = mpl.toolbar_items[toolbar_ind][3];\n",
       "\n",
       "        if (!name) {\n",
       "            // put a spacer in here.\n",
       "            continue;\n",
       "        }\n",
       "        var button = $('<button/>');\n",
       "        button.addClass('ui-button ui-widget ui-state-default ui-corner-all ' +\n",
       "                        'ui-button-icon-only');\n",
       "        button.attr('role', 'button');\n",
       "        button.attr('aria-disabled', 'false');\n",
       "        button.click(method_name, toolbar_event);\n",
       "        button.mouseover(tooltip, toolbar_mouse_event);\n",
       "\n",
       "        var icon_img = $('<span/>');\n",
       "        icon_img.addClass('ui-button-icon-primary ui-icon');\n",
       "        icon_img.addClass(image);\n",
       "        icon_img.addClass('ui-corner-all');\n",
       "\n",
       "        var tooltip_span = $('<span/>');\n",
       "        tooltip_span.addClass('ui-button-text');\n",
       "        tooltip_span.html(tooltip);\n",
       "\n",
       "        button.append(icon_img);\n",
       "        button.append(tooltip_span);\n",
       "\n",
       "        nav_element.append(button);\n",
       "    }\n",
       "\n",
       "    var fmt_picker_span = $('<span/>');\n",
       "\n",
       "    var fmt_picker = $('<select/>');\n",
       "    fmt_picker.addClass('mpl-toolbar-option ui-widget ui-widget-content');\n",
       "    fmt_picker_span.append(fmt_picker);\n",
       "    nav_element.append(fmt_picker_span);\n",
       "    this.format_dropdown = fmt_picker[0];\n",
       "\n",
       "    for (var ind in mpl.extensions) {\n",
       "        var fmt = mpl.extensions[ind];\n",
       "        var option = $(\n",
       "            '<option/>', {selected: fmt === mpl.default_extension}).html(fmt);\n",
       "        fmt_picker.append(option)\n",
       "    }\n",
       "\n",
       "    // Add hover states to the ui-buttons\n",
       "    $( \".ui-button\" ).hover(\n",
       "        function() { $(this).addClass(\"ui-state-hover\");},\n",
       "        function() { $(this).removeClass(\"ui-state-hover\");}\n",
       "    );\n",
       "\n",
       "    var status_bar = $('<span class=\"mpl-message\"/>');\n",
       "    nav_element.append(status_bar);\n",
       "    this.message = status_bar[0];\n",
       "}\n",
       "\n",
       "mpl.figure.prototype.request_resize = function(x_pixels, y_pixels) {\n",
       "    // Request matplotlib to resize the figure. Matplotlib will then trigger a resize in the client,\n",
       "    // which will in turn request a refresh of the image.\n",
       "    this.send_message('resize', {'width': x_pixels, 'height': y_pixels});\n",
       "}\n",
       "\n",
       "mpl.figure.prototype.send_message = function(type, properties) {\n",
       "    properties['type'] = type;\n",
       "    properties['figure_id'] = this.id;\n",
       "    this.ws.send(JSON.stringify(properties));\n",
       "}\n",
       "\n",
       "mpl.figure.prototype.send_draw_message = function() {\n",
       "    if (!this.waiting) {\n",
       "        this.waiting = true;\n",
       "        this.ws.send(JSON.stringify({type: \"draw\", figure_id: this.id}));\n",
       "    }\n",
       "}\n",
       "\n",
       "\n",
       "mpl.figure.prototype.handle_save = function(fig, msg) {\n",
       "    var format_dropdown = fig.format_dropdown;\n",
       "    var format = format_dropdown.options[format_dropdown.selectedIndex].value;\n",
       "    fig.ondownload(fig, format);\n",
       "}\n",
       "\n",
       "\n",
       "mpl.figure.prototype.handle_resize = function(fig, msg) {\n",
       "    var size = msg['size'];\n",
       "    if (size[0] != fig.canvas.width || size[1] != fig.canvas.height) {\n",
       "        fig._resize_canvas(size[0], size[1]);\n",
       "        fig.send_message(\"refresh\", {});\n",
       "    };\n",
       "}\n",
       "\n",
       "mpl.figure.prototype.handle_rubberband = function(fig, msg) {\n",
       "    var x0 = msg['x0'] / mpl.ratio;\n",
       "    var y0 = (fig.canvas.height - msg['y0']) / mpl.ratio;\n",
       "    var x1 = msg['x1'] / mpl.ratio;\n",
       "    var y1 = (fig.canvas.height - msg['y1']) / mpl.ratio;\n",
       "    x0 = Math.floor(x0) + 0.5;\n",
       "    y0 = Math.floor(y0) + 0.5;\n",
       "    x1 = Math.floor(x1) + 0.5;\n",
       "    y1 = Math.floor(y1) + 0.5;\n",
       "    var min_x = Math.min(x0, x1);\n",
       "    var min_y = Math.min(y0, y1);\n",
       "    var width = Math.abs(x1 - x0);\n",
       "    var height = Math.abs(y1 - y0);\n",
       "\n",
       "    fig.rubberband_context.clearRect(\n",
       "        0, 0, fig.canvas.width, fig.canvas.height);\n",
       "\n",
       "    fig.rubberband_context.strokeRect(min_x, min_y, width, height);\n",
       "}\n",
       "\n",
       "mpl.figure.prototype.handle_figure_label = function(fig, msg) {\n",
       "    // Updates the figure title.\n",
       "    fig.header.textContent = msg['label'];\n",
       "}\n",
       "\n",
       "mpl.figure.prototype.handle_cursor = function(fig, msg) {\n",
       "    var cursor = msg['cursor'];\n",
       "    switch(cursor)\n",
       "    {\n",
       "    case 0:\n",
       "        cursor = 'pointer';\n",
       "        break;\n",
       "    case 1:\n",
       "        cursor = 'default';\n",
       "        break;\n",
       "    case 2:\n",
       "        cursor = 'crosshair';\n",
       "        break;\n",
       "    case 3:\n",
       "        cursor = 'move';\n",
       "        break;\n",
       "    }\n",
       "    fig.rubberband_canvas.style.cursor = cursor;\n",
       "}\n",
       "\n",
       "mpl.figure.prototype.handle_message = function(fig, msg) {\n",
       "    fig.message.textContent = msg['message'];\n",
       "}\n",
       "\n",
       "mpl.figure.prototype.handle_draw = function(fig, msg) {\n",
       "    // Request the server to send over a new figure.\n",
       "    fig.send_draw_message();\n",
       "}\n",
       "\n",
       "mpl.figure.prototype.handle_image_mode = function(fig, msg) {\n",
       "    fig.image_mode = msg['mode'];\n",
       "}\n",
       "\n",
       "mpl.figure.prototype.updated_canvas_event = function() {\n",
       "    // Called whenever the canvas gets updated.\n",
       "    this.send_message(\"ack\", {});\n",
       "}\n",
       "\n",
       "// A function to construct a web socket function for onmessage handling.\n",
       "// Called in the figure constructor.\n",
       "mpl.figure.prototype._make_on_message_function = function(fig) {\n",
       "    return function socket_on_message(evt) {\n",
       "        if (evt.data instanceof Blob) {\n",
       "            /* FIXME: We get \"Resource interpreted as Image but\n",
       "             * transferred with MIME type text/plain:\" errors on\n",
       "             * Chrome.  But how to set the MIME type?  It doesn't seem\n",
       "             * to be part of the websocket stream */\n",
       "            evt.data.type = \"image/png\";\n",
       "\n",
       "            /* Free the memory for the previous frames */\n",
       "            if (fig.imageObj.src) {\n",
       "                (window.URL || window.webkitURL).revokeObjectURL(\n",
       "                    fig.imageObj.src);\n",
       "            }\n",
       "\n",
       "            fig.imageObj.src = (window.URL || window.webkitURL).createObjectURL(\n",
       "                evt.data);\n",
       "            fig.updated_canvas_event();\n",
       "            fig.waiting = false;\n",
       "            return;\n",
       "        }\n",
       "        else if (typeof evt.data === 'string' && evt.data.slice(0, 21) == \"data:image/png;base64\") {\n",
       "            fig.imageObj.src = evt.data;\n",
       "            fig.updated_canvas_event();\n",
       "            fig.waiting = false;\n",
       "            return;\n",
       "        }\n",
       "\n",
       "        var msg = JSON.parse(evt.data);\n",
       "        var msg_type = msg['type'];\n",
       "\n",
       "        // Call the  \"handle_{type}\" callback, which takes\n",
       "        // the figure and JSON message as its only arguments.\n",
       "        try {\n",
       "            var callback = fig[\"handle_\" + msg_type];\n",
       "        } catch (e) {\n",
       "            console.log(\"No handler for the '\" + msg_type + \"' message type: \", msg);\n",
       "            return;\n",
       "        }\n",
       "\n",
       "        if (callback) {\n",
       "            try {\n",
       "                // console.log(\"Handling '\" + msg_type + \"' message: \", msg);\n",
       "                callback(fig, msg);\n",
       "            } catch (e) {\n",
       "                console.log(\"Exception inside the 'handler_\" + msg_type + \"' callback:\", e, e.stack, msg);\n",
       "            }\n",
       "        }\n",
       "    };\n",
       "}\n",
       "\n",
       "// from http://stackoverflow.com/questions/1114465/getting-mouse-location-in-canvas\n",
       "mpl.findpos = function(e) {\n",
       "    //this section is from http://www.quirksmode.org/js/events_properties.html\n",
       "    var targ;\n",
       "    if (!e)\n",
       "        e = window.event;\n",
       "    if (e.target)\n",
       "        targ = e.target;\n",
       "    else if (e.srcElement)\n",
       "        targ = e.srcElement;\n",
       "    if (targ.nodeType == 3) // defeat Safari bug\n",
       "        targ = targ.parentNode;\n",
       "\n",
       "    // jQuery normalizes the pageX and pageY\n",
       "    // pageX,Y are the mouse positions relative to the document\n",
       "    // offset() returns the position of the element relative to the document\n",
       "    var x = e.pageX - $(targ).offset().left;\n",
       "    var y = e.pageY - $(targ).offset().top;\n",
       "\n",
       "    return {\"x\": x, \"y\": y};\n",
       "};\n",
       "\n",
       "/*\n",
       " * return a copy of an object with only non-object keys\n",
       " * we need this to avoid circular references\n",
       " * http://stackoverflow.com/a/24161582/3208463\n",
       " */\n",
       "function simpleKeys (original) {\n",
       "  return Object.keys(original).reduce(function (obj, key) {\n",
       "    if (typeof original[key] !== 'object')\n",
       "        obj[key] = original[key]\n",
       "    return obj;\n",
       "  }, {});\n",
       "}\n",
       "\n",
       "mpl.figure.prototype.mouse_event = function(event, name) {\n",
       "    var canvas_pos = mpl.findpos(event)\n",
       "\n",
       "    if (name === 'button_press')\n",
       "    {\n",
       "        this.canvas.focus();\n",
       "        this.canvas_div.focus();\n",
       "    }\n",
       "\n",
       "    var x = canvas_pos.x * mpl.ratio;\n",
       "    var y = canvas_pos.y * mpl.ratio;\n",
       "\n",
       "    this.send_message(name, {x: x, y: y, button: event.button,\n",
       "                             step: event.step,\n",
       "                             guiEvent: simpleKeys(event)});\n",
       "\n",
       "    /* This prevents the web browser from automatically changing to\n",
       "     * the text insertion cursor when the button is pressed.  We want\n",
       "     * to control all of the cursor setting manually through the\n",
       "     * 'cursor' event from matplotlib */\n",
       "    event.preventDefault();\n",
       "    return false;\n",
       "}\n",
       "\n",
       "mpl.figure.prototype._key_event_extra = function(event, name) {\n",
       "    // Handle any extra behaviour associated with a key event\n",
       "}\n",
       "\n",
       "mpl.figure.prototype.key_event = function(event, name) {\n",
       "\n",
       "    // Prevent repeat events\n",
       "    if (name == 'key_press')\n",
       "    {\n",
       "        if (event.which === this._key)\n",
       "            return;\n",
       "        else\n",
       "            this._key = event.which;\n",
       "    }\n",
       "    if (name == 'key_release')\n",
       "        this._key = null;\n",
       "\n",
       "    var value = '';\n",
       "    if (event.ctrlKey && event.which != 17)\n",
       "        value += \"ctrl+\";\n",
       "    if (event.altKey && event.which != 18)\n",
       "        value += \"alt+\";\n",
       "    if (event.shiftKey && event.which != 16)\n",
       "        value += \"shift+\";\n",
       "\n",
       "    value += 'k';\n",
       "    value += event.which.toString();\n",
       "\n",
       "    this._key_event_extra(event, name);\n",
       "\n",
       "    this.send_message(name, {key: value,\n",
       "                             guiEvent: simpleKeys(event)});\n",
       "    return false;\n",
       "}\n",
       "\n",
       "mpl.figure.prototype.toolbar_button_onclick = function(name) {\n",
       "    if (name == 'download') {\n",
       "        this.handle_save(this, null);\n",
       "    } else {\n",
       "        this.send_message(\"toolbar_button\", {name: name});\n",
       "    }\n",
       "};\n",
       "\n",
       "mpl.figure.prototype.toolbar_button_onmouseover = function(tooltip) {\n",
       "    this.message.textContent = tooltip;\n",
       "};\n",
       "mpl.toolbar_items = [[\"Home\", \"Reset original view\", \"fa fa-home icon-home\", \"home\"], [\"Back\", \"Back to previous view\", \"fa fa-arrow-left icon-arrow-left\", \"back\"], [\"Forward\", \"Forward to next view\", \"fa fa-arrow-right icon-arrow-right\", \"forward\"], [\"\", \"\", \"\", \"\"], [\"Pan\", \"Pan axes with left mouse, zoom with right\", \"fa fa-arrows icon-move\", \"pan\"], [\"Zoom\", \"Zoom to rectangle\", \"fa fa-square-o icon-check-empty\", \"zoom\"], [\"\", \"\", \"\", \"\"], [\"Download\", \"Download plot\", \"fa fa-floppy-o icon-save\", \"download\"]];\n",
       "\n",
       "mpl.extensions = [\"eps\", \"jpeg\", \"pdf\", \"png\", \"ps\", \"raw\", \"svg\", \"tif\"];\n",
       "\n",
       "mpl.default_extension = \"png\";var comm_websocket_adapter = function(comm) {\n",
       "    // Create a \"websocket\"-like object which calls the given IPython comm\n",
       "    // object with the appropriate methods. Currently this is a non binary\n",
       "    // socket, so there is still some room for performance tuning.\n",
       "    var ws = {};\n",
       "\n",
       "    ws.close = function() {\n",
       "        comm.close()\n",
       "    };\n",
       "    ws.send = function(m) {\n",
       "        //console.log('sending', m);\n",
       "        comm.send(m);\n",
       "    };\n",
       "    // Register the callback with on_msg.\n",
       "    comm.on_msg(function(msg) {\n",
       "        //console.log('receiving', msg['content']['data'], msg);\n",
       "        // Pass the mpl event to the overridden (by mpl) onmessage function.\n",
       "        ws.onmessage(msg['content']['data'])\n",
       "    });\n",
       "    return ws;\n",
       "}\n",
       "\n",
       "mpl.mpl_figure_comm = function(comm, msg) {\n",
       "    // This is the function which gets called when the mpl process\n",
       "    // starts-up an IPython Comm through the \"matplotlib\" channel.\n",
       "\n",
       "    var id = msg.content.data.id;\n",
       "    // Get hold of the div created by the display call when the Comm\n",
       "    // socket was opened in Python.\n",
       "    var element = $(\"#\" + id);\n",
       "    var ws_proxy = comm_websocket_adapter(comm)\n",
       "\n",
       "    function ondownload(figure, format) {\n",
       "        window.open(figure.imageObj.src);\n",
       "    }\n",
       "\n",
       "    var fig = new mpl.figure(id, ws_proxy,\n",
       "                           ondownload,\n",
       "                           element.get(0));\n",
       "\n",
       "    // Call onopen now - mpl needs it, as it is assuming we've passed it a real\n",
       "    // web socket which is closed, not our websocket->open comm proxy.\n",
       "    ws_proxy.onopen();\n",
       "\n",
       "    fig.parent_element = element.get(0);\n",
       "    fig.cell_info = mpl.find_output_cell(\"<div id='\" + id + \"'></div>\");\n",
       "    if (!fig.cell_info) {\n",
       "        console.error(\"Failed to find cell for figure\", id, fig);\n",
       "        return;\n",
       "    }\n",
       "\n",
       "    var output_index = fig.cell_info[2]\n",
       "    var cell = fig.cell_info[0];\n",
       "\n",
       "};\n",
       "\n",
       "mpl.figure.prototype.handle_close = function(fig, msg) {\n",
       "    var width = fig.canvas.width/mpl.ratio\n",
       "    fig.root.unbind('remove')\n",
       "\n",
       "    // Update the output cell to use the data from the current canvas.\n",
       "    fig.push_to_output();\n",
       "    var dataURL = fig.canvas.toDataURL();\n",
       "    // Re-enable the keyboard manager in IPython - without this line, in FF,\n",
       "    // the notebook keyboard shortcuts fail.\n",
       "    IPython.keyboard_manager.enable()\n",
       "    $(fig.parent_element).html('<img src=\"' + dataURL + '\" width=\"' + width + '\">');\n",
       "    fig.close_ws(fig, msg);\n",
       "}\n",
       "\n",
       "mpl.figure.prototype.close_ws = function(fig, msg){\n",
       "    fig.send_message('closing', msg);\n",
       "    // fig.ws.close()\n",
       "}\n",
       "\n",
       "mpl.figure.prototype.push_to_output = function(remove_interactive) {\n",
       "    // Turn the data on the canvas into data in the output cell.\n",
       "    var width = this.canvas.width/mpl.ratio\n",
       "    var dataURL = this.canvas.toDataURL();\n",
       "    this.cell_info[1]['text/html'] = '<img src=\"' + dataURL + '\" width=\"' + width + '\">';\n",
       "}\n",
       "\n",
       "mpl.figure.prototype.updated_canvas_event = function() {\n",
       "    // Tell IPython that the notebook contents must change.\n",
       "    IPython.notebook.set_dirty(true);\n",
       "    this.send_message(\"ack\", {});\n",
       "    var fig = this;\n",
       "    // Wait a second, then push the new image to the DOM so\n",
       "    // that it is saved nicely (might be nice to debounce this).\n",
       "    setTimeout(function () { fig.push_to_output() }, 1000);\n",
       "}\n",
       "\n",
       "mpl.figure.prototype._init_toolbar = function() {\n",
       "    var fig = this;\n",
       "\n",
       "    var nav_element = $('<div/>')\n",
       "    nav_element.attr('style', 'width: 100%');\n",
       "    this.root.append(nav_element);\n",
       "\n",
       "    // Define a callback function for later on.\n",
       "    function toolbar_event(event) {\n",
       "        return fig.toolbar_button_onclick(event['data']);\n",
       "    }\n",
       "    function toolbar_mouse_event(event) {\n",
       "        return fig.toolbar_button_onmouseover(event['data']);\n",
       "    }\n",
       "\n",
       "    for(var toolbar_ind in mpl.toolbar_items){\n",
       "        var name = mpl.toolbar_items[toolbar_ind][0];\n",
       "        var tooltip = mpl.toolbar_items[toolbar_ind][1];\n",
       "        var image = mpl.toolbar_items[toolbar_ind][2];\n",
       "        var method_name = mpl.toolbar_items[toolbar_ind][3];\n",
       "\n",
       "        if (!name) { continue; };\n",
       "\n",
       "        var button = $('<button class=\"btn btn-default\" href=\"#\" title=\"' + name + '\"><i class=\"fa ' + image + ' fa-lg\"></i></button>');\n",
       "        button.click(method_name, toolbar_event);\n",
       "        button.mouseover(tooltip, toolbar_mouse_event);\n",
       "        nav_element.append(button);\n",
       "    }\n",
       "\n",
       "    // Add the status bar.\n",
       "    var status_bar = $('<span class=\"mpl-message\" style=\"text-align:right; float: right;\"/>');\n",
       "    nav_element.append(status_bar);\n",
       "    this.message = status_bar[0];\n",
       "\n",
       "    // Add the close button to the window.\n",
       "    var buttongrp = $('<div class=\"btn-group inline pull-right\"></div>');\n",
       "    var button = $('<button class=\"btn btn-mini btn-primary\" href=\"#\" title=\"Stop Interaction\"><i class=\"fa fa-power-off icon-remove icon-large\"></i></button>');\n",
       "    button.click(function (evt) { fig.handle_close(fig, {}); } );\n",
       "    button.mouseover('Stop Interaction', toolbar_mouse_event);\n",
       "    buttongrp.append(button);\n",
       "    var titlebar = this.root.find($('.ui-dialog-titlebar'));\n",
       "    titlebar.prepend(buttongrp);\n",
       "}\n",
       "\n",
       "mpl.figure.prototype._root_extra_style = function(el){\n",
       "    var fig = this\n",
       "    el.on(\"remove\", function(){\n",
       "\tfig.close_ws(fig, {});\n",
       "    });\n",
       "}\n",
       "\n",
       "mpl.figure.prototype._canvas_extra_style = function(el){\n",
       "    // this is important to make the div 'focusable\n",
       "    el.attr('tabindex', 0)\n",
       "    // reach out to IPython and tell the keyboard manager to turn it's self\n",
       "    // off when our div gets focus\n",
       "\n",
       "    // location in version 3\n",
       "    if (IPython.notebook.keyboard_manager) {\n",
       "        IPython.notebook.keyboard_manager.register_events(el);\n",
       "    }\n",
       "    else {\n",
       "        // location in version 2\n",
       "        IPython.keyboard_manager.register_events(el);\n",
       "    }\n",
       "\n",
       "}\n",
       "\n",
       "mpl.figure.prototype._key_event_extra = function(event, name) {\n",
       "    var manager = IPython.notebook.keyboard_manager;\n",
       "    if (!manager)\n",
       "        manager = IPython.keyboard_manager;\n",
       "\n",
       "    // Check for shift+enter\n",
       "    if (event.shiftKey && event.which == 13) {\n",
       "        this.canvas_div.blur();\n",
       "        event.shiftKey = false;\n",
       "        // Send a \"J\" for go to next cell\n",
       "        event.which = 74;\n",
       "        event.keyCode = 74;\n",
       "        manager.command_mode();\n",
       "        manager.handle_keydown(event);\n",
       "    }\n",
       "}\n",
       "\n",
       "mpl.figure.prototype.handle_save = function(fig, msg) {\n",
       "    fig.ondownload(fig, null);\n",
       "}\n",
       "\n",
       "\n",
       "mpl.find_output_cell = function(html_output) {\n",
       "    // Return the cell and output element which can be found *uniquely* in the notebook.\n",
       "    // Note - this is a bit hacky, but it is done because the \"notebook_saving.Notebook\"\n",
       "    // IPython event is triggered only after the cells have been serialised, which for\n",
       "    // our purposes (turning an active figure into a static one), is too late.\n",
       "    var cells = IPython.notebook.get_cells();\n",
       "    var ncells = cells.length;\n",
       "    for (var i=0; i<ncells; i++) {\n",
       "        var cell = cells[i];\n",
       "        if (cell.cell_type === 'code'){\n",
       "            for (var j=0; j<cell.output_area.outputs.length; j++) {\n",
       "                var data = cell.output_area.outputs[j];\n",
       "                if (data.data) {\n",
       "                    // IPython >= 3 moved mimebundle to data attribute of output\n",
       "                    data = data.data;\n",
       "                }\n",
       "                if (data['text/html'] == html_output) {\n",
       "                    return [cell, data, j];\n",
       "                }\n",
       "            }\n",
       "        }\n",
       "    }\n",
       "}\n",
       "\n",
       "// Register the function which deals with the matplotlib target/channel.\n",
       "// The kernel may be null if the page has been refreshed.\n",
       "if (IPython.notebook.kernel != null) {\n",
       "    IPython.notebook.kernel.comm_manager.register_target('matplotlib', mpl.mpl_figure_comm);\n",
       "}\n"
      ],
      "text/plain": [
       "<IPython.core.display.Javascript object>"
      ]
     },
     "metadata": {},
     "output_type": "display_data"
    },
    {
     "data": {
      "text/html": [
       "<img src=\"data:image/png;base64,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\" width=\"600\">"
      ],
      "text/plain": [
       "<IPython.core.display.HTML object>"
      ]
     },
     "metadata": {},
     "output_type": "display_data"
    }
   ],
   "source": [
    "display_pca_scatterplot(model, sample=300)"
   ]
  },
  {
   "cell_type": "code",
   "execution_count": 146,
   "metadata": {},
   "outputs": [],
   "source": [
    "import plotly.graph_objects as go\n",
    "import plotly.express as px"
   ]
  },
  {
   "cell_type": "code",
   "execution_count": 155,
   "metadata": {},
   "outputs": [],
   "source": [
    "def display_pca_scatterplot_iplot(model, words=None, sample=0):\n",
    "    if words == None:\n",
    "        if sample > 0:\n",
    "            words = np.random.choice(list(model.vocab.keys()), sample)\n",
    "        else:\n",
    "            words = [ word for word in model.vocab ]\n",
    "        \n",
    "    word_vectors = np.array([model[w] for w in words])\n",
    "\n",
    "    twodim = PCA().fit_transform(word_vectors)[:,:2]\n",
    "    \n",
    "    fig = px.scatter(x=twodim[:,0], y=twodim[:,1], text=words, log_x=True, size_max=60)\n",
    "\n",
    "    fig.update_traces(textposition='top center')\n",
    "\n",
    "    fig.update_layout(\n",
    "        title_text='PCA'\n",
    "    )\n",
    "\n",
    "    fig.show()"
   ]
  },
  {
   "cell_type": "code",
   "execution_count": 168,
   "metadata": {},
   "outputs": [
    {
     "data": {
      "application/vnd.plotly.v1+json": {
       "config": {
        "plotlyServerURL": "https://plot.ly"
       },
       "data": [
        {
         "hoverlabel": {
          "namelength": 0
         },
         "hovertemplate": "x=%{x}<br>y=%{y}<br>text=%{text}",
         "legendgroup": "",
         "marker": {
          "color": "#636efa",
          "symbol": "circle"
         },
         "mode": "markers+text",
         "name": "",
         "showlegend": false,
         "text": [
          "coffee",
          "tea",
          "beer",
          "wine",
          "brandy",
          "rum",
          "champagne",
          "water",
          "spaghetti",
          "borscht",
          "hamburger",
          "pizza",
          "falafel",
          "sushi",
          "meatballs",
          "dog",
          "horse",
          "cat",
          "monkey",
          "parrot",
          "koala",
          "lizard",
          "frog",
          "toad",
          "monkey",
          "ape",
          "kangaroo",
          "wombat",
          "wolf",
          "france",
          "germany",
          "hungary",
          "luxembourg",
          "australia",
          "fiji",
          "china",
          "homework",
          "assignment",
          "problem",
          "exam",
          "test",
          "class",
          "school",
          "college",
          "university",
          "institute",
          "soda",
          "fanta",
          "cars"
         ],
         "textposition": "top center",
         "type": "scatter",
         "x": [
          -0.42154625058174133,
          -0.0840393602848053,
          -0.648024320602417,
          -0.0745759904384613,
          -1.5549900531768799,
          -2.168872356414795,
          -0.31826284527778625,
          1.09843111038208,
          -2.8063430786132812,
          -2.439732074737549,
          -1.4600441455841064,
          -1.8270777463912964,
          -2.533989906311035,
          -1.7561419010162354,
          -2.9256484508514404,
          -1.1188342571258545,
          -0.021295825019478798,
          -1.33309805393219,
          -2.172618865966797,
          -2.0474953651428223,
          -2.3820016384124756,
          -2.2271318435668945,
          -2.4412925243377686,
          -2.651848554611206,
          -2.172618865966797,
          -2.1256654262542725,
          -1.7874946594238281,
          -2.3761959075927734,
          -0.5323479175567627,
          3.8715431690216064,
          3.4985861778259277,
          2.691229820251465,
          2.186859369277954,
          2.975428342819214,
          1.4991487264633179,
          3.4230408668518066,
          0.4872311055660248,
          1.841644287109375,
          1.8171663284301758,
          2.4355227947235107,
          3.1154754161834717,
          2.522204875946045,
          3.531346321105957,
          3.7124342918395996,
          4.142857551574707,
          2.998668909072876,
          -1.462693691253662,
          -1.6897120475769043,
          1.7128108739852905
         ],
         "xaxis": "x",
         "y": [
          3.5731394290924072,
          2.9904918670654297,
          3.8035707473754883,
          4.0074872970581055,
          2.625074863433838,
          3.303175926208496,
          3.971954107284546,
          1.2943446636199951,
          0.7655213475227356,
          0.8013743758201599,
          0.8847172856330872,
          2.239347219467163,
          0.9598232507705688,
          1.8327072858810425,
          0.509956955909729,
          -1.4357712268829346,
          -0.9039283990859985,
          -1.948959231376648,
          -2.6744351387023926,
          -2.3739986419677734,
          -1.834768533706665,
          -2.7849228382110596,
          -2.9646565914154053,
          -2.675536870956421,
          -2.6744349002838135,
          -2.5839810371398926,
          -2.4074008464813232,
          -2.5550472736358643,
          -1.4175543785095215,
          0.15796442329883575,
          -0.2932054400444031,
          0.038982558995485306,
          0.28841617703437805,
          -1.2945680618286133,
          -0.9820619821548462,
          -0.33289438486099243,
          -0.06775154173374176,
          -0.4674561321735382,
          -0.3365822732448578,
          -0.5774728655815125,
          -0.8744528293609619,
          -0.060363877564668655,
          -0.5434749126434326,
          -0.7224336266517639,
          -1.2498109340667725,
          -0.9011870622634888,
          3.202103853225708,
          1.6175415515899658,
          1.0714141130447388
         ],
         "yaxis": "y"
        }
       ],
       "layout": {
        "height": 600,
        "legend": {
         "tracegroupgap": 0
        },
        "margin": {
         "t": 60
        },
        "template": {
         "data": {
          "bar": [
           {
            "error_x": {
             "color": "#2a3f5f"
            },
            "error_y": {
             "color": "#2a3f5f"
            },
            "marker": {
             "line": {
              "color": "#E5ECF6",
              "width": 0.5
             }
            },
            "type": "bar"
           }
          ],
          "barpolar": [
           {
            "marker": {
             "line": {
              "color": "#E5ECF6",
              "width": 0.5
             }
            },
            "type": "barpolar"
           }
          ],
          "carpet": [
           {
            "aaxis": {
             "endlinecolor": "#2a3f5f",
             "gridcolor": "white",
             "linecolor": "white",
             "minorgridcolor": "white",
             "startlinecolor": "#2a3f5f"
            },
            "baxis": {
             "endlinecolor": "#2a3f5f",
             "gridcolor": "white",
             "linecolor": "white",
             "minorgridcolor": "white",
             "startlinecolor": "#2a3f5f"
            },
            "type": "carpet"
           }
          ],
          "choropleth": [
           {
            "colorbar": {
             "outlinewidth": 0,
             "ticks": ""
            },
            "type": "choropleth"
           }
          ],
          "contour": [
           {
            "colorbar": {
             "outlinewidth": 0,
             "ticks": ""
            },
            "colorscale": [
             [
              0,
              "#0d0887"
             ],
             [
              0.1111111111111111,
              "#46039f"
             ],
             [
              0.2222222222222222,
              "#7201a8"
             ],
             [
              0.3333333333333333,
              "#9c179e"
             ],
             [
              0.4444444444444444,
              "#bd3786"
             ],
             [
              0.5555555555555556,
              "#d8576b"
             ],
             [
              0.6666666666666666,
              "#ed7953"
             ],
             [
              0.7777777777777778,
              "#fb9f3a"
             ],
             [
              0.8888888888888888,
              "#fdca26"
             ],
             [
              1,
              "#f0f921"
             ]
            ],
            "type": "contour"
           }
          ],
          "contourcarpet": [
           {
            "colorbar": {
             "outlinewidth": 0,
             "ticks": ""
            },
            "type": "contourcarpet"
           }
          ],
          "heatmap": [
           {
            "colorbar": {
             "outlinewidth": 0,
             "ticks": ""
            },
            "colorscale": [
             [
              0,
              "#0d0887"
             ],
             [
              0.1111111111111111,
              "#46039f"
             ],
             [
              0.2222222222222222,
              "#7201a8"
             ],
             [
              0.3333333333333333,
              "#9c179e"
             ],
             [
              0.4444444444444444,
              "#bd3786"
             ],
             [
              0.5555555555555556,
              "#d8576b"
             ],
             [
              0.6666666666666666,
              "#ed7953"
             ],
             [
              0.7777777777777778,
              "#fb9f3a"
             ],
             [
              0.8888888888888888,
              "#fdca26"
             ],
             [
              1,
              "#f0f921"
             ]
            ],
            "type": "heatmap"
           }
          ],
          "heatmapgl": [
           {
            "colorbar": {
             "outlinewidth": 0,
             "ticks": ""
            },
            "colorscale": [
             [
              0,
              "#0d0887"
             ],
             [
              0.1111111111111111,
              "#46039f"
             ],
             [
              0.2222222222222222,
              "#7201a8"
             ],
             [
              0.3333333333333333,
              "#9c179e"
             ],
             [
              0.4444444444444444,
              "#bd3786"
             ],
             [
              0.5555555555555556,
              "#d8576b"
             ],
             [
              0.6666666666666666,
              "#ed7953"
             ],
             [
              0.7777777777777778,
              "#fb9f3a"
             ],
             [
              0.8888888888888888,
              "#fdca26"
             ],
             [
              1,
              "#f0f921"
             ]
            ],
            "type": "heatmapgl"
           }
          ],
          "histogram": [
           {
            "marker": {
             "colorbar": {
              "outlinewidth": 0,
              "ticks": ""
             }
            },
            "type": "histogram"
           }
          ],
          "histogram2d": [
           {
            "colorbar": {
             "outlinewidth": 0,
             "ticks": ""
            },
            "colorscale": [
             [
              0,
              "#0d0887"
             ],
             [
              0.1111111111111111,
              "#46039f"
             ],
             [
              0.2222222222222222,
              "#7201a8"
             ],
             [
              0.3333333333333333,
              "#9c179e"
             ],
             [
              0.4444444444444444,
              "#bd3786"
             ],
             [
              0.5555555555555556,
              "#d8576b"
             ],
             [
              0.6666666666666666,
              "#ed7953"
             ],
             [
              0.7777777777777778,
              "#fb9f3a"
             ],
             [
              0.8888888888888888,
              "#fdca26"
             ],
             [
              1,
              "#f0f921"
             ]
            ],
            "type": "histogram2d"
           }
          ],
          "histogram2dcontour": [
           {
            "colorbar": {
             "outlinewidth": 0,
             "ticks": ""
            },
            "colorscale": [
             [
              0,
              "#0d0887"
             ],
             [
              0.1111111111111111,
              "#46039f"
             ],
             [
              0.2222222222222222,
              "#7201a8"
             ],
             [
              0.3333333333333333,
              "#9c179e"
             ],
             [
              0.4444444444444444,
              "#bd3786"
             ],
             [
              0.5555555555555556,
              "#d8576b"
             ],
             [
              0.6666666666666666,
              "#ed7953"
             ],
             [
              0.7777777777777778,
              "#fb9f3a"
             ],
             [
              0.8888888888888888,
              "#fdca26"
             ],
             [
              1,
              "#f0f921"
             ]
            ],
            "type": "histogram2dcontour"
           }
          ],
          "mesh3d": [
           {
            "colorbar": {
             "outlinewidth": 0,
             "ticks": ""
            },
            "type": "mesh3d"
           }
          ],
          "parcoords": [
           {
            "line": {
             "colorbar": {
              "outlinewidth": 0,
              "ticks": ""
             }
            },
            "type": "parcoords"
           }
          ],
          "scatter": [
           {
            "marker": {
             "colorbar": {
              "outlinewidth": 0,
              "ticks": ""
             }
            },
            "type": "scatter"
           }
          ],
          "scatter3d": [
           {
            "line": {
             "colorbar": {
              "outlinewidth": 0,
              "ticks": ""
             }
            },
            "marker": {
             "colorbar": {
              "outlinewidth": 0,
              "ticks": ""
             }
            },
            "type": "scatter3d"
           }
          ],
          "scattercarpet": [
           {
            "marker": {
             "colorbar": {
              "outlinewidth": 0,
              "ticks": ""
             }
            },
            "type": "scattercarpet"
           }
          ],
          "scattergeo": [
           {
            "marker": {
             "colorbar": {
              "outlinewidth": 0,
              "ticks": ""
             }
            },
            "type": "scattergeo"
           }
          ],
          "scattergl": [
           {
            "marker": {
             "colorbar": {
              "outlinewidth": 0,
              "ticks": ""
             }
            },
            "type": "scattergl"
           }
          ],
          "scattermapbox": [
           {
            "marker": {
             "colorbar": {
              "outlinewidth": 0,
              "ticks": ""
             }
            },
            "type": "scattermapbox"
           }
          ],
          "scatterpolar": [
           {
            "marker": {
             "colorbar": {
              "outlinewidth": 0,
              "ticks": ""
             }
            },
            "type": "scatterpolar"
           }
          ],
          "scatterpolargl": [
           {
            "marker": {
             "colorbar": {
              "outlinewidth": 0,
              "ticks": ""
             }
            },
            "type": "scatterpolargl"
           }
          ],
          "scatterternary": [
           {
            "marker": {
             "colorbar": {
              "outlinewidth": 0,
              "ticks": ""
             }
            },
            "type": "scatterternary"
           }
          ],
          "surface": [
           {
            "colorbar": {
             "outlinewidth": 0,
             "ticks": ""
            },
            "colorscale": [
             [
              0,
              "#0d0887"
             ],
             [
              0.1111111111111111,
              "#46039f"
             ],
             [
              0.2222222222222222,
              "#7201a8"
             ],
             [
              0.3333333333333333,
              "#9c179e"
             ],
             [
              0.4444444444444444,
              "#bd3786"
             ],
             [
              0.5555555555555556,
              "#d8576b"
             ],
             [
              0.6666666666666666,
              "#ed7953"
             ],
             [
              0.7777777777777778,
              "#fb9f3a"
             ],
             [
              0.8888888888888888,
              "#fdca26"
             ],
             [
              1,
              "#f0f921"
             ]
            ],
            "type": "surface"
           }
          ],
          "table": [
           {
            "cells": {
             "fill": {
              "color": "#EBF0F8"
             },
             "line": {
              "color": "white"
             }
            },
            "header": {
             "fill": {
              "color": "#C8D4E3"
             },
             "line": {
              "color": "white"
             }
            },
            "type": "table"
           }
          ]
         },
         "layout": {
          "annotationdefaults": {
           "arrowcolor": "#2a3f5f",
           "arrowhead": 0,
           "arrowwidth": 1
          },
          "colorscale": {
           "diverging": [
            [
             0,
             "#8e0152"
            ],
            [
             0.1,
             "#c51b7d"
            ],
            [
             0.2,
             "#de77ae"
            ],
            [
             0.3,
             "#f1b6da"
            ],
            [
             0.4,
             "#fde0ef"
            ],
            [
             0.5,
             "#f7f7f7"
            ],
            [
             0.6,
             "#e6f5d0"
            ],
            [
             0.7,
             "#b8e186"
            ],
            [
             0.8,
             "#7fbc41"
            ],
            [
             0.9,
             "#4d9221"
            ],
            [
             1,
             "#276419"
            ]
           ],
           "sequential": [
            [
             0,
             "#0d0887"
            ],
            [
             0.1111111111111111,
             "#46039f"
            ],
            [
             0.2222222222222222,
             "#7201a8"
            ],
            [
             0.3333333333333333,
             "#9c179e"
            ],
            [
             0.4444444444444444,
             "#bd3786"
            ],
            [
             0.5555555555555556,
             "#d8576b"
            ],
            [
             0.6666666666666666,
             "#ed7953"
            ],
            [
             0.7777777777777778,
             "#fb9f3a"
            ],
            [
             0.8888888888888888,
             "#fdca26"
            ],
            [
             1,
             "#f0f921"
            ]
           ],
           "sequentialminus": [
            [
             0,
             "#0d0887"
            ],
            [
             0.1111111111111111,
             "#46039f"
            ],
            [
             0.2222222222222222,
             "#7201a8"
            ],
            [
             0.3333333333333333,
             "#9c179e"
            ],
            [
             0.4444444444444444,
             "#bd3786"
            ],
            [
             0.5555555555555556,
             "#d8576b"
            ],
            [
             0.6666666666666666,
             "#ed7953"
            ],
            [
             0.7777777777777778,
             "#fb9f3a"
            ],
            [
             0.8888888888888888,
             "#fdca26"
            ],
            [
             1,
             "#f0f921"
            ]
           ]
          },
          "colorway": [
           "#636efa",
           "#EF553B",
           "#00cc96",
           "#ab63fa",
           "#FFA15A",
           "#19d3f3",
           "#FF6692",
           "#B6E880",
           "#FF97FF",
           "#FECB52"
          ],
          "font": {
           "color": "#2a3f5f"
          },
          "geo": {
           "bgcolor": "white",
           "lakecolor": "white",
           "landcolor": "#E5ECF6",
           "showlakes": true,
           "showland": true,
           "subunitcolor": "white"
          },
          "hoverlabel": {
           "align": "left"
          },
          "hovermode": "closest",
          "mapbox": {
           "style": "light"
          },
          "paper_bgcolor": "white",
          "plot_bgcolor": "#E5ECF6",
          "polar": {
           "angularaxis": {
            "gridcolor": "white",
            "linecolor": "white",
            "ticks": ""
           },
           "bgcolor": "#E5ECF6",
           "radialaxis": {
            "gridcolor": "white",
            "linecolor": "white",
            "ticks": ""
           }
          },
          "scene": {
           "xaxis": {
            "backgroundcolor": "#E5ECF6",
            "gridcolor": "white",
            "gridwidth": 2,
            "linecolor": "white",
            "showbackground": true,
            "ticks": "",
            "zerolinecolor": "white"
           },
           "yaxis": {
            "backgroundcolor": "#E5ECF6",
            "gridcolor": "white",
            "gridwidth": 2,
            "linecolor": "white",
            "showbackground": true,
            "ticks": "",
            "zerolinecolor": "white"
           },
           "zaxis": {
            "backgroundcolor": "#E5ECF6",
            "gridcolor": "white",
            "gridwidth": 2,
            "linecolor": "white",
            "showbackground": true,
            "ticks": "",
            "zerolinecolor": "white"
           }
          },
          "shapedefaults": {
           "line": {
            "color": "#2a3f5f"
           }
          },
          "ternary": {
           "aaxis": {
            "gridcolor": "white",
            "linecolor": "white",
            "ticks": ""
           },
           "baxis": {
            "gridcolor": "white",
            "linecolor": "white",
            "ticks": ""
           },
           "bgcolor": "#E5ECF6",
           "caxis": {
            "gridcolor": "white",
            "linecolor": "white",
            "ticks": ""
           }
          },
          "title": {
           "x": 0.05
          },
          "xaxis": {
           "automargin": true,
           "gridcolor": "white",
           "linecolor": "white",
           "ticks": "",
           "zerolinecolor": "white",
           "zerolinewidth": 2
          },
          "yaxis": {
           "automargin": true,
           "gridcolor": "white",
           "linecolor": "white",
           "ticks": "",
           "zerolinecolor": "white",
           "zerolinewidth": 2
          }
         }
        },
        "title": {
         "text": "PCA"
        },
        "xaxis": {
         "anchor": "y",
         "domain": [
          0,
          0.98
         ],
         "title": {
          "text": "x"
         },
         "type": "log"
        },
        "yaxis": {
         "anchor": "x",
         "domain": [
          0,
          1
         ],
         "title": {
          "text": "y"
         }
        }
       }
      },
      "text/html": [
       "<div>\n",
       "        \n",
       "        \n",
       "            <div id=\"4f9d2279-59c3-4fd9-a35d-cbb4bbe9b5ad\" class=\"plotly-graph-div\" style=\"height:600px; width:100%;\"></div>\n",
       "            <script type=\"text/javascript\">\n",
       "                require([\"plotly\"], function(Plotly) {\n",
       "                    window.PLOTLYENV=window.PLOTLYENV || {};\n",
       "                    \n",
       "                if (document.getElementById(\"4f9d2279-59c3-4fd9-a35d-cbb4bbe9b5ad\")) {\n",
       "                    Plotly.newPlot(\n",
       "                        '4f9d2279-59c3-4fd9-a35d-cbb4bbe9b5ad',\n",
       "                        [{\"hoverlabel\": {\"namelength\": 0}, \"hovertemplate\": \"x=%{x}<br>y=%{y}<br>text=%{text}\", \"legendgroup\": \"\", \"marker\": {\"color\": \"#636efa\", \"symbol\": \"circle\"}, \"mode\": \"markers+text\", \"name\": \"\", \"showlegend\": false, \"text\": [\"coffee\", \"tea\", \"beer\", \"wine\", \"brandy\", \"rum\", \"champagne\", \"water\", \"spaghetti\", \"borscht\", \"hamburger\", \"pizza\", \"falafel\", \"sushi\", \"meatballs\", \"dog\", \"horse\", \"cat\", \"monkey\", \"parrot\", \"koala\", \"lizard\", \"frog\", \"toad\", \"monkey\", \"ape\", \"kangaroo\", \"wombat\", \"wolf\", \"france\", \"germany\", \"hungary\", \"luxembourg\", \"australia\", \"fiji\", \"china\", \"homework\", \"assignment\", \"problem\", \"exam\", \"test\", \"class\", \"school\", \"college\", \"university\", \"institute\", \"soda\", \"fanta\", \"cars\"], \"textposition\": \"top center\", \"type\": \"scatter\", \"x\": [-0.42154625058174133, -0.0840393602848053, -0.648024320602417, -0.0745759904384613, -1.5549900531768799, -2.168872356414795, -0.31826284527778625, 1.09843111038208, -2.8063430786132812, -2.439732074737549, -1.4600441455841064, -1.8270777463912964, -2.533989906311035, -1.7561419010162354, -2.9256484508514404, -1.1188342571258545, -0.021295825019478798, -1.33309805393219, -2.172618865966797, -2.0474953651428223, -2.3820016384124756, -2.2271318435668945, -2.4412925243377686, -2.651848554611206, -2.172618865966797, -2.1256654262542725, -1.7874946594238281, -2.3761959075927734, -0.5323479175567627, 3.8715431690216064, 3.4985861778259277, 2.691229820251465, 2.186859369277954, 2.975428342819214, 1.4991487264633179, 3.4230408668518066, 0.4872311055660248, 1.841644287109375, 1.8171663284301758, 2.4355227947235107, 3.1154754161834717, 2.522204875946045, 3.531346321105957, 3.7124342918395996, 4.142857551574707, 2.998668909072876, -1.462693691253662, -1.6897120475769043, 1.7128108739852905], \"xaxis\": \"x\", \"y\": [3.5731394290924072, 2.9904918670654297, 3.8035707473754883, 4.0074872970581055, 2.625074863433838, 3.303175926208496, 3.971954107284546, 1.2943446636199951, 0.7655213475227356, 0.8013743758201599, 0.8847172856330872, 2.239347219467163, 0.9598232507705688, 1.8327072858810425, 0.509956955909729, -1.4357712268829346, -0.9039283990859985, -1.948959231376648, -2.6744351387023926, -2.3739986419677734, -1.834768533706665, -2.7849228382110596, -2.9646565914154053, -2.675536870956421, -2.6744349002838135, -2.5839810371398926, -2.4074008464813232, -2.5550472736358643, -1.4175543785095215, 0.15796442329883575, -0.2932054400444031, 0.038982558995485306, 0.28841617703437805, -1.2945680618286133, -0.9820619821548462, -0.33289438486099243, -0.06775154173374176, -0.4674561321735382, -0.3365822732448578, -0.5774728655815125, -0.8744528293609619, -0.060363877564668655, -0.5434749126434326, -0.7224336266517639, -1.2498109340667725, -0.9011870622634888, 3.202103853225708, 1.6175415515899658, 1.0714141130447388], \"yaxis\": \"y\"}],\n",
       "                        {\"height\": 600, \"legend\": {\"tracegroupgap\": 0}, \"margin\": {\"t\": 60}, \"template\": {\"data\": {\"bar\": [{\"error_x\": {\"color\": \"#2a3f5f\"}, \"error_y\": {\"color\": \"#2a3f5f\"}, \"marker\": {\"line\": {\"color\": \"#E5ECF6\", \"width\": 0.5}}, \"type\": \"bar\"}], \"barpolar\": [{\"marker\": {\"line\": {\"color\": \"#E5ECF6\", \"width\": 0.5}}, \"type\": \"barpolar\"}], \"carpet\": [{\"aaxis\": {\"endlinecolor\": \"#2a3f5f\", \"gridcolor\": \"white\", \"linecolor\": \"white\", \"minorgridcolor\": \"white\", \"startlinecolor\": \"#2a3f5f\"}, \"baxis\": {\"endlinecolor\": \"#2a3f5f\", \"gridcolor\": \"white\", \"linecolor\": \"white\", \"minorgridcolor\": \"white\", \"startlinecolor\": \"#2a3f5f\"}, \"type\": \"carpet\"}], \"choropleth\": [{\"colorbar\": {\"outlinewidth\": 0, \"ticks\": \"\"}, \"type\": \"choropleth\"}], \"contour\": [{\"colorbar\": {\"outlinewidth\": 0, \"ticks\": \"\"}, \"colorscale\": [[0.0, \"#0d0887\"], [0.1111111111111111, \"#46039f\"], [0.2222222222222222, \"#7201a8\"], [0.3333333333333333, \"#9c179e\"], [0.4444444444444444, \"#bd3786\"], [0.5555555555555556, \"#d8576b\"], [0.6666666666666666, \"#ed7953\"], [0.7777777777777778, \"#fb9f3a\"], [0.8888888888888888, \"#fdca26\"], [1.0, \"#f0f921\"]], \"type\": \"contour\"}], \"contourcarpet\": [{\"colorbar\": {\"outlinewidth\": 0, \"ticks\": \"\"}, \"type\": \"contourcarpet\"}], \"heatmap\": [{\"colorbar\": {\"outlinewidth\": 0, \"ticks\": \"\"}, \"colorscale\": [[0.0, \"#0d0887\"], [0.1111111111111111, \"#46039f\"], [0.2222222222222222, \"#7201a8\"], [0.3333333333333333, \"#9c179e\"], [0.4444444444444444, \"#bd3786\"], [0.5555555555555556, \"#d8576b\"], [0.6666666666666666, \"#ed7953\"], [0.7777777777777778, \"#fb9f3a\"], [0.8888888888888888, \"#fdca26\"], [1.0, \"#f0f921\"]], \"type\": \"heatmap\"}], \"heatmapgl\": [{\"colorbar\": {\"outlinewidth\": 0, \"ticks\": \"\"}, \"colorscale\": [[0.0, \"#0d0887\"], [0.1111111111111111, \"#46039f\"], [0.2222222222222222, \"#7201a8\"], [0.3333333333333333, \"#9c179e\"], [0.4444444444444444, \"#bd3786\"], [0.5555555555555556, \"#d8576b\"], [0.6666666666666666, \"#ed7953\"], [0.7777777777777778, \"#fb9f3a\"], [0.8888888888888888, \"#fdca26\"], [1.0, \"#f0f921\"]], \"type\": \"heatmapgl\"}], \"histogram\": [{\"marker\": {\"colorbar\": {\"outlinewidth\": 0, \"ticks\": \"\"}}, \"type\": \"histogram\"}], \"histogram2d\": [{\"colorbar\": {\"outlinewidth\": 0, \"ticks\": \"\"}, \"colorscale\": [[0.0, \"#0d0887\"], [0.1111111111111111, \"#46039f\"], [0.2222222222222222, \"#7201a8\"], [0.3333333333333333, \"#9c179e\"], [0.4444444444444444, \"#bd3786\"], [0.5555555555555556, \"#d8576b\"], [0.6666666666666666, \"#ed7953\"], [0.7777777777777778, \"#fb9f3a\"], [0.8888888888888888, \"#fdca26\"], [1.0, \"#f0f921\"]], \"type\": \"histogram2d\"}], \"histogram2dcontour\": [{\"colorbar\": {\"outlinewidth\": 0, \"ticks\": \"\"}, \"colorscale\": [[0.0, \"#0d0887\"], [0.1111111111111111, \"#46039f\"], [0.2222222222222222, \"#7201a8\"], [0.3333333333333333, \"#9c179e\"], [0.4444444444444444, \"#bd3786\"], [0.5555555555555556, \"#d8576b\"], [0.6666666666666666, \"#ed7953\"], [0.7777777777777778, \"#fb9f3a\"], [0.8888888888888888, \"#fdca26\"], [1.0, \"#f0f921\"]], \"type\": \"histogram2dcontour\"}], \"mesh3d\": [{\"colorbar\": {\"outlinewidth\": 0, \"ticks\": \"\"}, \"type\": \"mesh3d\"}], \"parcoords\": [{\"line\": {\"colorbar\": {\"outlinewidth\": 0, \"ticks\": \"\"}}, \"type\": \"parcoords\"}], \"scatter\": [{\"marker\": {\"colorbar\": {\"outlinewidth\": 0, \"ticks\": \"\"}}, \"type\": \"scatter\"}], \"scatter3d\": [{\"line\": {\"colorbar\": {\"outlinewidth\": 0, \"ticks\": \"\"}}, \"marker\": {\"colorbar\": {\"outlinewidth\": 0, \"ticks\": \"\"}}, \"type\": \"scatter3d\"}], \"scattercarpet\": [{\"marker\": {\"colorbar\": {\"outlinewidth\": 0, \"ticks\": \"\"}}, \"type\": \"scattercarpet\"}], \"scattergeo\": [{\"marker\": {\"colorbar\": {\"outlinewidth\": 0, \"ticks\": \"\"}}, \"type\": \"scattergeo\"}], \"scattergl\": [{\"marker\": {\"colorbar\": {\"outlinewidth\": 0, \"ticks\": \"\"}}, \"type\": \"scattergl\"}], \"scattermapbox\": [{\"marker\": {\"colorbar\": {\"outlinewidth\": 0, \"ticks\": \"\"}}, \"type\": \"scattermapbox\"}], \"scatterpolar\": [{\"marker\": {\"colorbar\": {\"outlinewidth\": 0, \"ticks\": \"\"}}, \"type\": \"scatterpolar\"}], \"scatterpolargl\": [{\"marker\": {\"colorbar\": {\"outlinewidth\": 0, \"ticks\": \"\"}}, \"type\": \"scatterpolargl\"}], \"scatterternary\": [{\"marker\": {\"colorbar\": {\"outlinewidth\": 0, \"ticks\": \"\"}}, \"type\": \"scatterternary\"}], \"surface\": [{\"colorbar\": {\"outlinewidth\": 0, \"ticks\": \"\"}, \"colorscale\": [[0.0, \"#0d0887\"], [0.1111111111111111, \"#46039f\"], [0.2222222222222222, \"#7201a8\"], [0.3333333333333333, \"#9c179e\"], [0.4444444444444444, \"#bd3786\"], [0.5555555555555556, \"#d8576b\"], [0.6666666666666666, \"#ed7953\"], [0.7777777777777778, \"#fb9f3a\"], [0.8888888888888888, \"#fdca26\"], [1.0, \"#f0f921\"]], \"type\": \"surface\"}], \"table\": [{\"cells\": {\"fill\": {\"color\": \"#EBF0F8\"}, \"line\": {\"color\": \"white\"}}, \"header\": {\"fill\": {\"color\": \"#C8D4E3\"}, \"line\": {\"color\": \"white\"}}, \"type\": \"table\"}]}, \"layout\": {\"annotationdefaults\": {\"arrowcolor\": \"#2a3f5f\", \"arrowhead\": 0, \"arrowwidth\": 1}, \"colorscale\": {\"diverging\": [[0, \"#8e0152\"], [0.1, \"#c51b7d\"], [0.2, \"#de77ae\"], [0.3, \"#f1b6da\"], [0.4, \"#fde0ef\"], [0.5, \"#f7f7f7\"], [0.6, \"#e6f5d0\"], [0.7, \"#b8e186\"], [0.8, \"#7fbc41\"], [0.9, \"#4d9221\"], [1, \"#276419\"]], \"sequential\": [[0.0, \"#0d0887\"], [0.1111111111111111, \"#46039f\"], [0.2222222222222222, \"#7201a8\"], [0.3333333333333333, \"#9c179e\"], [0.4444444444444444, \"#bd3786\"], [0.5555555555555556, \"#d8576b\"], [0.6666666666666666, \"#ed7953\"], [0.7777777777777778, \"#fb9f3a\"], [0.8888888888888888, \"#fdca26\"], [1.0, \"#f0f921\"]], \"sequentialminus\": [[0.0, \"#0d0887\"], [0.1111111111111111, \"#46039f\"], [0.2222222222222222, \"#7201a8\"], [0.3333333333333333, \"#9c179e\"], [0.4444444444444444, \"#bd3786\"], [0.5555555555555556, \"#d8576b\"], [0.6666666666666666, \"#ed7953\"], [0.7777777777777778, \"#fb9f3a\"], [0.8888888888888888, \"#fdca26\"], [1.0, \"#f0f921\"]]}, \"colorway\": [\"#636efa\", \"#EF553B\", \"#00cc96\", \"#ab63fa\", \"#FFA15A\", \"#19d3f3\", \"#FF6692\", \"#B6E880\", \"#FF97FF\", \"#FECB52\"], \"font\": {\"color\": \"#2a3f5f\"}, \"geo\": {\"bgcolor\": \"white\", \"lakecolor\": \"white\", \"landcolor\": \"#E5ECF6\", \"showlakes\": true, \"showland\": true, \"subunitcolor\": \"white\"}, \"hoverlabel\": {\"align\": \"left\"}, \"hovermode\": \"closest\", \"mapbox\": {\"style\": \"light\"}, \"paper_bgcolor\": \"white\", \"plot_bgcolor\": \"#E5ECF6\", \"polar\": {\"angularaxis\": {\"gridcolor\": \"white\", \"linecolor\": \"white\", \"ticks\": \"\"}, \"bgcolor\": \"#E5ECF6\", \"radialaxis\": {\"gridcolor\": \"white\", \"linecolor\": \"white\", \"ticks\": \"\"}}, \"scene\": {\"xaxis\": {\"backgroundcolor\": \"#E5ECF6\", \"gridcolor\": \"white\", \"gridwidth\": 2, \"linecolor\": \"white\", \"showbackground\": true, \"ticks\": \"\", \"zerolinecolor\": \"white\"}, \"yaxis\": {\"backgroundcolor\": \"#E5ECF6\", \"gridcolor\": \"white\", \"gridwidth\": 2, \"linecolor\": \"white\", \"showbackground\": true, \"ticks\": \"\", \"zerolinecolor\": \"white\"}, \"zaxis\": {\"backgroundcolor\": \"#E5ECF6\", \"gridcolor\": \"white\", \"gridwidth\": 2, \"linecolor\": \"white\", \"showbackground\": true, \"ticks\": \"\", \"zerolinecolor\": \"white\"}}, \"shapedefaults\": {\"line\": {\"color\": \"#2a3f5f\"}}, \"ternary\": {\"aaxis\": {\"gridcolor\": \"white\", \"linecolor\": \"white\", \"ticks\": \"\"}, \"baxis\": {\"gridcolor\": \"white\", \"linecolor\": \"white\", \"ticks\": \"\"}, \"bgcolor\": \"#E5ECF6\", \"caxis\": {\"gridcolor\": \"white\", \"linecolor\": \"white\", \"ticks\": \"\"}}, \"title\": {\"x\": 0.05}, \"xaxis\": {\"automargin\": true, \"gridcolor\": \"white\", \"linecolor\": \"white\", \"ticks\": \"\", \"zerolinecolor\": \"white\", \"zerolinewidth\": 2}, \"yaxis\": {\"automargin\": true, \"gridcolor\": \"white\", \"linecolor\": \"white\", \"ticks\": \"\", \"zerolinecolor\": \"white\", \"zerolinewidth\": 2}}}, \"title\": {\"text\": \"PCA\"}, \"xaxis\": {\"anchor\": \"y\", \"domain\": [0.0, 0.98], \"title\": {\"text\": \"x\"}, \"type\": \"log\"}, \"yaxis\": {\"anchor\": \"x\", \"domain\": [0.0, 1.0], \"title\": {\"text\": \"y\"}}},\n",
       "                        {\"responsive\": true}\n",
       "                    ).then(function(){\n",
       "                            \n",
       "var gd = document.getElementById('4f9d2279-59c3-4fd9-a35d-cbb4bbe9b5ad');\n",
       "var x = new MutationObserver(function (mutations, observer) {{\n",
       "        var display = window.getComputedStyle(gd).display;\n",
       "        if (!display || display === 'none') {{\n",
       "            console.log([gd, 'removed!']);\n",
       "            Plotly.purge(gd);\n",
       "            observer.disconnect();\n",
       "        }}\n",
       "}});\n",
       "\n",
       "// Listen for the removal of the full notebook cells\n",
       "var notebookContainer = gd.closest('#notebook-container');\n",
       "if (notebookContainer) {{\n",
       "    x.observe(notebookContainer, {childList: true});\n",
       "}}\n",
       "\n",
       "// Listen for the clearing of the current output cell\n",
       "var outputEl = gd.closest('.output');\n",
       "if (outputEl) {{\n",
       "    x.observe(outputEl, {childList: true});\n",
       "}}\n",
       "\n",
       "                        })\n",
       "                };\n",
       "                });\n",
       "            </script>\n",
       "        </div>"
      ]
     },
     "metadata": {},
     "output_type": "display_data"
    }
   ],
   "source": [
    "display_pca_scatterplot_iplot(model, \n",
    "                        ['coffee', 'tea', 'beer', 'wine', 'brandy', 'rum', 'champagne', 'water',\n",
    "                         'spaghetti', 'borscht', 'hamburger', 'pizza', 'falafel', 'sushi', 'meatballs',\n",
    "                         'dog', 'horse', 'cat', 'monkey', 'parrot', 'koala', 'lizard',\n",
    "                         'frog', 'toad', 'monkey', 'ape', 'kangaroo', 'wombat', 'wolf',\n",
    "                         'france', 'germany', 'hungary', 'luxembourg', 'australia', 'fiji', 'china',\n",
    "                         'homework', 'assignment', 'problem', 'exam', 'test', 'class',\n",
    "                         'school', 'college', 'university', 'institute','soda','fanta','cars'])"
   ]
  },
  {
   "cell_type": "code",
   "execution_count": 171,
   "metadata": {},
   "outputs": [
    {
     "data": {
      "application/vnd.plotly.v1+json": {
       "config": {
        "plotlyServerURL": "https://plot.ly"
       },
       "data": [
        {
         "hoverlabel": {
          "namelength": 0
         },
         "hovertemplate": "x=%{x}<br>y=%{y}<br>text=%{text}",
         "legendgroup": "",
         "marker": {
          "color": "#636efa",
          "symbol": "circle"
         },
         "mode": "markers+text",
         "name": "",
         "showlegend": false,
         "text": [
          "cuper",
          "sternness",
          "stainless-steel",
          "lupescu",
          "djeter",
          "3.7508",
          "bubaris",
          "zealandia",
          "public-benefit",
          "1,730",
          "hocutt",
          "ornelas",
          "intercellular",
          "sloppier",
          "threatend",
          "doyt",
          "masoe",
          "brana",
          "221.7",
          "cogwheel",
          "45.68",
          "iker",
          "prospectively",
          "natal",
          "haanas",
          "raziel",
          "oxidizer",
          "okb-1",
          "pravia",
          "searchinger",
          "allen",
          "t18",
          "curfews",
          "ysp",
          "cseh",
          "tutting",
          "sortition",
          "chaitman",
          "paychecks",
          "laing",
          "ongaro",
          "struedinger",
          "turntablist",
          "poddębice",
          "m-35",
          "recent",
          "banxico",
          "ipil",
          "traylor",
          "voskresensky",
          "hukawng",
          "artscroll",
          "mouseketeers",
          "undine",
          "shīr",
          "eschen",
          "poppins",
          "disentis",
          "side-wheel",
          "102.58",
          "safadi",
          "jabre",
          "composure",
          "athens",
          "evonne",
          "sr20",
          "métropole",
          "pergola",
          "korrespondent",
          "até",
          "cevat",
          "annuity",
          "9/7",
          "schellenberg",
          "dychtwald",
          "lulla",
          "'60",
          "cusped",
          "anónima",
          "sisno",
          "jook",
          "goijman",
          "hummingbirds",
          "1700",
          "300million",
          "cousine",
          "pre-norman",
          "tapio",
          "3-km",
          "walkways",
          "taverners",
          "perforators",
          "t-dog",
          "vowing",
          "pulquerias",
          "turani",
          "klauk",
          "sdm04",
          "alraune",
          "ferroviário",
          "embroilment",
          "manilow",
          "marittimo",
          "senility",
          "goodsell",
          "edifact",
          "2,803",
          "batiuk",
          "cjm",
          "90.88",
          "михаил",
          "blechman",
          "archa",
          "sayn-wittgenstein",
          "kathoey",
          "20-a",
          "51.06",
          "barashi",
          "gst",
          "felafel",
          "592",
          "suominen",
          "marchais",
          "anansi",
          "plots",
          "sutarto",
          "guangping",
          "nns7",
          "hanahan",
          "yì",
          "nearside",
          "siripol",
          "31.43",
          "58.95",
          "nakaima",
          "dessus",
          "deactivating",
          "dougan",
          "conspiracy",
          "swinnerton",
          "bedout",
          "paloverde",
          "tzahi",
          "hypersea",
          "villazón",
          "phimosis",
          "kox",
          "rifqa",
          "wbtv",
          "all-share",
          "pye",
          "yordanov",
          "149.7",
          "marvine",
          "hulya",
          "parolee",
          "chege",
          "3-90",
          "warmest",
          "ieee-488",
          "keobounphanh",
          "qualls",
          "saalekreis",
          "hajjis",
          "acquittal",
          "darky",
          "drotske",
          "queenborough",
          "choleric",
          "siripongs",
          "12v",
          "basha",
          "greensburg",
          "cantori",
          "hard-to-reach",
          "duck-like",
          "mahgoub",
          "glycyrrhizin",
          "bolshoi",
          "cotta",
          "duey",
          "quasthoff",
          "chorusing",
          "elongate",
          "lithographed",
          "ene",
          "385th",
          "brentjens",
          "500-1",
          "kaverin",
          "tubarao",
          "cw",
          "crioulo",
          "1948-1949",
          "ofri",
          "houseguests",
          "automotores",
          "pagonis",
          "kluyver",
          "nosotros",
          "prerov",
          "علي",
          "butterley",
          "theresianum",
          "extensible",
          "buh",
          "three-strikes",
          "mandamento",
          "majorities",
          "siljander",
          "jumhuri",
          "cryptography",
          "9/16",
          ".554",
          "martin-smith",
          "skyfire",
          "beaurepaire",
          "k-point",
          "mikuma",
          "desire",
          "sabrisho",
          "administrating",
          "ralstonia",
          "spanaway",
          "www.nytsyn",
          "13-month",
          "tritiya",
          "westerham",
          "8:7",
          "mineral",
          "ifalpa",
          "manoeuvrability",
          "holzemer",
          "hematological",
          "4,258",
          "gamefowl",
          "kemény",
          "winpac",
          "kult",
          "140km",
          "gojong",
          "minallah",
          "meditated",
          "ambre",
          "provoost",
          "defer",
          "ivanovitch",
          "vylegzhanin",
          "1,600-year",
          "caverly",
          "münden",
          "derartu",
          "voja",
          "drunk",
          "blakeway",
          "enköping",
          "lechters",
          "wagoneer",
          "tamahori",
          "roarke",
          "tonderai",
          "panja",
          "biracial",
          "cléry",
          "seraphina",
          "jihei",
          "jbs",
          "silverbird",
          "mesinai",
          "identifed",
          "kimberly",
          "morally",
          "1.1635",
          "ravings",
          "baseplate",
          "defections",
          "emerick",
          "twistin",
          "swastika",
          "enlil",
          "tulasne",
          "sarakham",
          "häme",
          "baltija",
          "10.63",
          "wonton",
          "starksia",
          "colombano",
          "plain-text",
          "susanf",
          "dohke",
          "404-526-5509",
          "292nd",
          "bresland",
          "leyburn",
          "ajar",
          "guiney",
          "shirou",
          "cabeus",
          "ogea"
         ],
         "textposition": "top center",
         "type": "scatter",
         "x": [
          1.3264137506484985,
          0.010485796257853508,
          -0.45250409841537476,
          -0.17991261184215546,
          0.8498916029930115,
          -1.559080958366394,
          -0.3555179536342621,
          -0.43816545605659485,
          -0.7038004398345947,
          0.7607812285423279,
          -0.3857251703739166,
          -0.0829748585820198,
          0.10081269592046738,
          -0.13997097313404083,
          0.1759166419506073,
          -0.43469616770744324,
          0.38739654421806335,
          -0.8017433881759644,
          -0.6846129298210144,
          -0.3554815351963043,
          -0.9985063076019287,
          1.0118104219436646,
          0.15145088732242584,
          2.6362156867980957,
          -0.9297462701797485,
          0.19071245193481445,
          1.424677848815918,
          -0.7403895258903503,
          -0.5499287247657776,
          -1.8053553104400635,
          3.0756633281707764,
          -0.7382832765579224,
          2.7874655723571777,
          0.9261481165885925,
          0.12989789247512817,
          0.32367438077926636,
          -0.6044155359268188,
          -1.1539570093154907,
          2.181454658508301,
          1.5645095109939575,
          0.20973704755306244,
          -0.5309842824935913,
          -0.0756196603178978,
          -0.025980673730373383,
          -0.3260815739631653,
          4.468605995178223,
          -0.9166499972343445,
          0.6671972274780273,
          1.3752260208129883,
          -0.49916017055511475,
          -0.48866501450538635,
          -0.586957573890686,
          -0.14117968082427979,
          0.00150097138248384,
          0.8099842071533203,
          -0.7938441038131714,
          1.314769983291626,
          -0.49605271220207214,
          -0.15980641543865204,
          -0.9023116230964661,
          -0.8472501635551453,
          -0.690077006816864,
          1.9128451347351074,
          3.231884479522705,
          0.4298698604106903,
          -0.12006235122680664,
          -0.5165782570838928,
          0.6669348478317261,
          -1.0985021591186523,
          -1.0010602474212646,
          -0.9026593565940857,
          2.036679744720459,
          0.7184280157089233,
          0.3070119619369507,
          -0.2924562096595764,
          -1.0145355463027954,
          0.531037449836731,
          -0.1887478530406952,
          -1.1002627611160278,
          -1.819581389427185,
          0.2038038671016693,
          -0.2195005714893341,
          1.6978464126586914,
          2.0138251781463623,
          -0.8762775659561157,
          -0.5055847764015198,
          0.32619336247444153,
          -0.4840432107448578,
          -0.6845319867134094,
          1.6758112907409668,
          0.05168207734823227,
          -0.5841707587242126,
          -0.002885397057980299,
          2.8446195125579834,
          -0.3269822597503662,
          -1.0580837726593018,
          -0.617171585559845,
          0.6675294041633606,
          -1.0452841520309448,
          -0.2338455319404602,
          -0.9241234064102173,
          1.0597394704818726,
          -1.2595149278640747,
          0.7547168731689453,
          0.12303079664707184,
          -0.7805340886116028,
          -0.3511495590209961,
          -0.500621497631073,
          -0.38477566838264465,
          -1.0473909378051758,
          -0.8174607753753662,
          -0.15203483402729034,
          1.062890887260437,
          -0.7403573989868164,
          -0.4123241603374481,
          0.03544896841049194,
          -0.5777484178543091,
          -2.0330376625061035,
          1.9756484031677246,
          -0.9193482995033264,
          1.5131434202194214,
          -0.7030543684959412,
          0.34633031487464905,
          0.13538222014904022,
          3.1624648571014404,
          1.2472227811813354,
          -1.3707013130187988,
          -0.6975345015525818,
          -0.5898365378379822,
          -0.717146098613739,
          -0.30437296628952026,
          -1.7209792137145996,
          -0.9686955809593201,
          -0.7017667293548584,
          -0.08055950701236725,
          -1.4620743989944458,
          0.37609097361564636,
          0.513016402721405,
          3.8206191062927246,
          -0.316289484500885,
          -0.4254479706287384,
          -0.48525699973106384,
          -0.18641144037246704,
          0.18282175064086914,
          -0.7695486545562744,
          -0.8926486372947693,
          -0.7812700271606445,
          -0.5286802053451538,
          -0.04707295820116997,
          -0.610450029373169,
          1.431261420249939,
          0.09687742590904236,
          -0.1852714717388153,
          -1.7829285860061646,
          -1.4621832370758057,
          0.7992238402366638,
          -1.030119776725769,
          -1.1220530271530151,
          2.1208603382110596,
          -0.434920996427536,
          -0.46544867753982544,
          0.8673436641693115,
          -0.2939656972885132,
          -0.33511120080947876,
          2.842808485031128,
          -0.4555719196796417,
          -1.1688288450241089,
          -0.0158007200807333,
          -0.21991024911403656,
          -0.5105198621749878,
          -0.14200209081172943,
          0.32870712876319885,
          0.8665674924850464,
          -1.300403118133545,
          -0.29027095437049866,
          -0.1288997083902359,
          -0.8385287523269653,
          -0.7522799372673035,
          1.419435977935791,
          1.6025115251541138,
          -1.2776302099227905,
          -0.03340296819806099,
          -0.556088387966156,
          1.2223666906356812,
          0.03615086153149605,
          0.20254218578338623,
          -0.360675185918808,
          -1.2772499322891235,
          0.35481777787208557,
          -0.7279838919639587,
          -0.06318910419940948,
          2.513857841491699,
          -0.9324633479118347,
          0.24509067833423615,
          -0.5956442952156067,
          2.277191162109375,
          -1.0785691738128662,
          0.025847584009170532,
          -1.0139580965042114,
          -0.42398250102996826,
          -1.1333688497543335,
          -0.5611194968223572,
          0.18416503071784973,
          -0.6930060386657715,
          1.188145637512207,
          0.7000313997268677,
          -0.4288281202316284,
          -0.9912061095237732,
          2.8242785930633545,
          -0.8124626278877258,
          -0.9965963959693909,
          1.7446916103363037,
          1.279204249382019,
          -1.3290114402770996,
          -0.5637567639350891,
          -0.20144742727279663,
          -1.0013000965118408,
          -0.4553786516189575,
          -0.5626556873321533,
          3.5043182373046875,
          -0.7385246753692627,
          0.5996568202972412,
          -1.2881226539611816,
          -0.7896166443824768,
          0.732404887676239,
          1.8477427959442139,
          -0.6061651110649109,
          -0.5748597383499146,
          -0.7631546854972839,
          2.6612470149993896,
          0.0730394572019577,
          0.6312822699546814,
          -0.540446400642395,
          -0.010118897072970867,
          -0.3651251196861267,
          -0.24101555347442627,
          -0.5892731547355652,
          -0.4712033271789551,
          0.11290103942155838,
          -0.8254474997520447,
          0.1946997195482254,
          -1.0321623086929321,
          1.6923054456710815,
          -0.5687249302864075,
          -0.5592877268791199,
          2.5453338623046875,
          -1.1939030885696411,
          -0.8946357369422913,
          -0.09204494208097458,
          -0.3843519389629364,
          -0.4157160520553589,
          0.4591406285762787,
          -1.1140352487564087,
          2.8109664916992188,
          -0.22759248316287994,
          -0.7590464353561401,
          -0.19593514502048492,
          0.4663172662258148,
          0.21358196437358856,
          0.7854682803153992,
          -0.8359872102737427,
          0.3350101411342621,
          1.3511404991149902,
          -0.7049829363822937,
          -0.7544081807136536,
          -0.8170313239097595,
          0.6694287061691284,
          -0.2821542024612427,
          -0.5152115821838379,
          0.07618904858827591,
          1.991458535194397,
          2.666696548461914,
          -0.6546883583068848,
          0.3007134795188904,
          -0.13157601654529572,
          2.4145047664642334,
          0.32001927495002747,
          -0.5904408097267151,
          2.007678270339966,
          -0.2978587746620178,
          -0.22728058695793152,
          -0.6730321645736694,
          -0.45384714007377625,
          -0.6992825269699097,
          0.1060890257358551,
          0.5656838417053223,
          -2.218827247619629,
          -1.2503340244293213,
          -0.07051113992929459,
          0.14817379415035248,
          -2.305070400238037,
          -0.5377538800239563,
          -0.6288862228393555,
          -1.5091725587844849,
          -0.31585046648979187,
          1.1672247648239136,
          -0.09215664118528366,
          -0.7873384356498718,
          -0.4805617928504944,
          0.4978734254837036
         ],
         "xaxis": "x",
         "y": [
          0.8442609906196594,
          1.0325117111206055,
          0.5236395001411438,
          -0.1290757805109024,
          -1.6086599826812744,
          0.47206225991249084,
          -0.8835778832435608,
          0.05898924171924591,
          0.6317200064659119,
          0.8448224663734436,
          -0.3387005031108856,
          -0.9279910922050476,
          0.6034625172615051,
          0.44349583983421326,
          -0.12473630160093307,
          -0.8244156241416931,
          -1.3073232173919678,
          0.03590525686740875,
          -0.10739941149950027,
          0.27917030453681946,
          -0.5048847198486328,
          -0.35823896527290344,
          0.30753183364868164,
          -0.35836541652679443,
          0.04733582213521004,
          -0.5485765933990479,
          0.9852900505065918,
          -0.29547590017318726,
          0.0884757786989212,
          -0.8779192566871643,
          -2.0294857025146484,
          0.01546193566173315,
          0.7445091605186462,
          0.8504112958908081,
          -1.1951344013214111,
          -0.04445119574666023,
          0.4052163362503052,
          -1.4173364639282227,
          0.4809969663619995,
          -1.711379051208496,
          0.026844410225749016,
          -1.0891366004943848,
          0.26706886291503906,
          0.2830527424812317,
          0.35856571793556213,
          -0.45374810695648193,
          0.0583852082490921,
          -0.42278945446014404,
          -0.797555685043335,
          -0.3207111358642578,
          0.195784330368042,
          0.7492094039916992,
          -0.12671346962451935,
          0.46435847878456116,
          0.1700567901134491,
          0.3565095365047455,
          -0.9965208768844604,
          0.20928698778152466,
          0.30447399616241455,
          -0.3368287980556488,
          -0.43568915128707886,
          0.1838913857936859,
          0.42740514874458313,
          -0.8198819756507874,
          -1.7044113874435425,
          -0.19962307810783386,
          -0.17141486704349518,
          0.21236155927181244,
          0.5998387336730957,
          -0.23166002333164215,
          -0.10653074830770493,
          -0.1320667862892151,
          0.056089505553245544,
          -0.15473057329654694,
          -0.5513759851455688,
          0.38283705711364746,
          -0.8056241273880005,
          1.4762866497039795,
          1.0038440227508545,
          -0.28872978687286377,
          -0.20614272356033325,
          0.2162773162126541,
          1.3230009078979492,
          -0.8710672855377197,
          0.05705897882580757,
          -0.6222705245018005,
          1.0259335041046143,
          -0.7979851365089417,
          1.6335759162902832,
          1.5194334983825684,
          0.9369292259216309,
          1.2593069076538086,
          0.27849453687667847,
          0.03655894473195076,
          0.5753300786018372,
          0.06799473613500595,
          -0.05667869746685028,
          0.23844310641288757,
          -0.1995488852262497,
          1.3513729572296143,
          0.6724662184715271,
          -0.6622939109802246,
          0.31861236691474915,
          0.07691267877817154,
          -1.013622522354126,
          0.28816312551498413,
          1.0748704671859741,
          -0.18727417290210724,
          0.27267149090766907,
          -0.2834467589855194,
          -1.1759520769119263,
          -1.1985644102096558,
          0.0955633595585823,
          0.7583432197570801,
          0.5852826237678528,
          0.8364386558532715,
          -1.05863356590271,
          -0.0848892331123352,
          0.13197925686836243,
          0.4481428563594818,
          -0.38795462250709534,
          -1.1069823503494263,
          0.4224869906902313,
          0.47295793890953064,
          -0.037812091410160065,
          0.14483270049095154,
          0.11187820136547089,
          -0.8853567242622375,
          -0.3205128312110901,
          0.0010826120851561427,
          0.7956379055976868,
          -0.49769869446754456,
          -0.4129909873008728,
          0.050855837762355804,
          0.33164820075035095,
          -0.031580425798892975,
          0.7769019603729248,
          -0.9169527292251587,
          -0.880664587020874,
          -0.2201828956604004,
          -0.14277057349681854,
          1.3157955408096313,
          0.040774036198854446,
          -0.003788900561630726,
          0.17501133680343628,
          0.5888026356697083,
          0.423239529132843,
          0.06719397753477097,
          0.486856609582901,
          0.7200534343719482,
          -1.445937991142273,
          -0.23017455637454987,
          0.20198576152324677,
          -0.5703701972961426,
          -1.0798343420028687,
          0.0027584070339798927,
          -1.595156192779541,
          -0.07292994111776352,
          0.7704207301139832,
          1.0486464500427246,
          0.6663585901260376,
          -1.244697093963623,
          -0.06393960118293762,
          0.825564980506897,
          -0.586184024810791,
          -0.0193853210657835,
          -0.31183332204818726,
          -0.1453750729560852,
          0.17563363909721375,
          -0.573624312877655,
          0.48396188020706177,
          -0.3976065218448639,
          -8.460287062916905e-05,
          -0.9044673442840576,
          1.2042560577392578,
          5.84263801574707,
          -0.6696694493293762,
          0.6166141033172607,
          0.440823495388031,
          0.027861425653100014,
          -0.8130137920379639,
          0.08528096228837967,
          0.5393190979957581,
          1.657537817955017,
          0.2285909503698349,
          -0.6054393649101257,
          0.22778122127056122,
          -0.0639352947473526,
          0.373882532119751,
          0.24548247456550598,
          0.025922155007719994,
          0.29752108454704285,
          0.18728376924991608,
          0.39629149436950684,
          -0.3534437119960785,
          0.73872971534729,
          0.23215802013874054,
          -1.378833293914795,
          0.3217359483242035,
          0.8935973048210144,
          0.17587152123451233,
          -0.6274406313896179,
          -0.2890247106552124,
          0.39336684346199036,
          1.6349941492080688,
          -4.643884658813477,
          0.06168671324849129,
          1.144902229309082,
          1.0156084299087524,
          -1.7968930006027222,
          0.14364302158355713,
          0.2731573283672333,
          -1.5598680973052979,
          -1.1058993339538574,
          -0.42610692977905273,
          -0.455272912979126,
          -0.589167594909668,
          0.6257460117340088,
          0.34255465865135193,
          -0.017849739640951157,
          0.007754732854664326,
          0.9699424505233765,
          0.392461895942688,
          0.4182208478450775,
          -1.0301395654678345,
          0.16930446028709412,
          0.11991392076015472,
          -0.4080914855003357,
          0.43225666880607605,
          0.4055463373661041,
          -0.057028356939554214,
          1.521751880645752,
          -0.7474347352981567,
          2.1553947925567627,
          -0.018356425687670708,
          1.0967296361923218,
          0.3314179480075836,
          -0.14595818519592285,
          0.4275282919406891,
          0.28104838728904724,
          0.5052446126937866,
          -0.4767895042896271,
          -0.05385761708021164,
          0.5714786648750305,
          -0.8492832183837891,
          0.3993571400642395,
          -0.35721516609191895,
          -0.23335959017276764,
          -0.06949889659881592,
          -0.6902039051055908,
          0.12575756013393402,
          0.008165951818227768,
          -0.5529727935791016,
          -0.17906226217746735,
          -0.2290610522031784,
          0.8311012983322144,
          -0.2696691155433655,
          0.7461473941802979,
          -0.6466108560562134,
          0.5088018774986267,
          -1.0199936628341675,
          -0.633641242980957,
          0.2363417148590088,
          0.40694597363471985,
          -0.6027442216873169,
          0.2878810167312622,
          -0.6439405083656311,
          -0.24178506433963776,
          -0.10898834466934204,
          -0.1462775319814682,
          -2.7011525630950928,
          1.314267635345459,
          -0.7049671411514282,
          0.9723894000053406,
          1.1516011953353882,
          0.23865863680839539,
          -1.675367832183838,
          -0.19073764979839325,
          0.27996760606765747,
          0.49621111154556274,
          -0.08720680326223373,
          0.43884196877479553,
          0.401874840259552,
          0.05994599312543869,
          -0.4156845510005951,
          0.11626553535461426,
          -0.0058922311291098595,
          -0.4806484878063202,
          0.9092345237731934,
          -1.6411323547363281,
          -0.22010135650634766,
          -0.13711294531822205,
          0.0641992837190628,
          -1.323411464691162,
          -0.2534274458885193,
          0.5777972936630249,
          -0.390828937292099,
          0.4917771518230438,
          -0.11874300241470337,
          -0.5280765891075134
         ],
         "yaxis": "y"
        }
       ],
       "layout": {
        "height": 600,
        "legend": {
         "tracegroupgap": 0
        },
        "margin": {
         "t": 60
        },
        "template": {
         "data": {
          "bar": [
           {
            "error_x": {
             "color": "#2a3f5f"
            },
            "error_y": {
             "color": "#2a3f5f"
            },
            "marker": {
             "line": {
              "color": "#E5ECF6",
              "width": 0.5
             }
            },
            "type": "bar"
           }
          ],
          "barpolar": [
           {
            "marker": {
             "line": {
              "color": "#E5ECF6",
              "width": 0.5
             }
            },
            "type": "barpolar"
           }
          ],
          "carpet": [
           {
            "aaxis": {
             "endlinecolor": "#2a3f5f",
             "gridcolor": "white",
             "linecolor": "white",
             "minorgridcolor": "white",
             "startlinecolor": "#2a3f5f"
            },
            "baxis": {
             "endlinecolor": "#2a3f5f",
             "gridcolor": "white",
             "linecolor": "white",
             "minorgridcolor": "white",
             "startlinecolor": "#2a3f5f"
            },
            "type": "carpet"
           }
          ],
          "choropleth": [
           {
            "colorbar": {
             "outlinewidth": 0,
             "ticks": ""
            },
            "type": "choropleth"
           }
          ],
          "contour": [
           {
            "colorbar": {
             "outlinewidth": 0,
             "ticks": ""
            },
            "colorscale": [
             [
              0,
              "#0d0887"
             ],
             [
              0.1111111111111111,
              "#46039f"
             ],
             [
              0.2222222222222222,
              "#7201a8"
             ],
             [
              0.3333333333333333,
              "#9c179e"
             ],
             [
              0.4444444444444444,
              "#bd3786"
             ],
             [
              0.5555555555555556,
              "#d8576b"
             ],
             [
              0.6666666666666666,
              "#ed7953"
             ],
             [
              0.7777777777777778,
              "#fb9f3a"
             ],
             [
              0.8888888888888888,
              "#fdca26"
             ],
             [
              1,
              "#f0f921"
             ]
            ],
            "type": "contour"
           }
          ],
          "contourcarpet": [
           {
            "colorbar": {
             "outlinewidth": 0,
             "ticks": ""
            },
            "type": "contourcarpet"
           }
          ],
          "heatmap": [
           {
            "colorbar": {
             "outlinewidth": 0,
             "ticks": ""
            },
            "colorscale": [
             [
              0,
              "#0d0887"
             ],
             [
              0.1111111111111111,
              "#46039f"
             ],
             [
              0.2222222222222222,
              "#7201a8"
             ],
             [
              0.3333333333333333,
              "#9c179e"
             ],
             [
              0.4444444444444444,
              "#bd3786"
             ],
             [
              0.5555555555555556,
              "#d8576b"
             ],
             [
              0.6666666666666666,
              "#ed7953"
             ],
             [
              0.7777777777777778,
              "#fb9f3a"
             ],
             [
              0.8888888888888888,
              "#fdca26"
             ],
             [
              1,
              "#f0f921"
             ]
            ],
            "type": "heatmap"
           }
          ],
          "heatmapgl": [
           {
            "colorbar": {
             "outlinewidth": 0,
             "ticks": ""
            },
            "colorscale": [
             [
              0,
              "#0d0887"
             ],
             [
              0.1111111111111111,
              "#46039f"
             ],
             [
              0.2222222222222222,
              "#7201a8"
             ],
             [
              0.3333333333333333,
              "#9c179e"
             ],
             [
              0.4444444444444444,
              "#bd3786"
             ],
             [
              0.5555555555555556,
              "#d8576b"
             ],
             [
              0.6666666666666666,
              "#ed7953"
             ],
             [
              0.7777777777777778,
              "#fb9f3a"
             ],
             [
              0.8888888888888888,
              "#fdca26"
             ],
             [
              1,
              "#f0f921"
             ]
            ],
            "type": "heatmapgl"
           }
          ],
          "histogram": [
           {
            "marker": {
             "colorbar": {
              "outlinewidth": 0,
              "ticks": ""
             }
            },
            "type": "histogram"
           }
          ],
          "histogram2d": [
           {
            "colorbar": {
             "outlinewidth": 0,
             "ticks": ""
            },
            "colorscale": [
             [
              0,
              "#0d0887"
             ],
             [
              0.1111111111111111,
              "#46039f"
             ],
             [
              0.2222222222222222,
              "#7201a8"
             ],
             [
              0.3333333333333333,
              "#9c179e"
             ],
             [
              0.4444444444444444,
              "#bd3786"
             ],
             [
              0.5555555555555556,
              "#d8576b"
             ],
             [
              0.6666666666666666,
              "#ed7953"
             ],
             [
              0.7777777777777778,
              "#fb9f3a"
             ],
             [
              0.8888888888888888,
              "#fdca26"
             ],
             [
              1,
              "#f0f921"
             ]
            ],
            "type": "histogram2d"
           }
          ],
          "histogram2dcontour": [
           {
            "colorbar": {
             "outlinewidth": 0,
             "ticks": ""
            },
            "colorscale": [
             [
              0,
              "#0d0887"
             ],
             [
              0.1111111111111111,
              "#46039f"
             ],
             [
              0.2222222222222222,
              "#7201a8"
             ],
             [
              0.3333333333333333,
              "#9c179e"
             ],
             [
              0.4444444444444444,
              "#bd3786"
             ],
             [
              0.5555555555555556,
              "#d8576b"
             ],
             [
              0.6666666666666666,
              "#ed7953"
             ],
             [
              0.7777777777777778,
              "#fb9f3a"
             ],
             [
              0.8888888888888888,
              "#fdca26"
             ],
             [
              1,
              "#f0f921"
             ]
            ],
            "type": "histogram2dcontour"
           }
          ],
          "mesh3d": [
           {
            "colorbar": {
             "outlinewidth": 0,
             "ticks": ""
            },
            "type": "mesh3d"
           }
          ],
          "parcoords": [
           {
            "line": {
             "colorbar": {
              "outlinewidth": 0,
              "ticks": ""
             }
            },
            "type": "parcoords"
           }
          ],
          "scatter": [
           {
            "marker": {
             "colorbar": {
              "outlinewidth": 0,
              "ticks": ""
             }
            },
            "type": "scatter"
           }
          ],
          "scatter3d": [
           {
            "line": {
             "colorbar": {
              "outlinewidth": 0,
              "ticks": ""
             }
            },
            "marker": {
             "colorbar": {
              "outlinewidth": 0,
              "ticks": ""
             }
            },
            "type": "scatter3d"
           }
          ],
          "scattercarpet": [
           {
            "marker": {
             "colorbar": {
              "outlinewidth": 0,
              "ticks": ""
             }
            },
            "type": "scattercarpet"
           }
          ],
          "scattergeo": [
           {
            "marker": {
             "colorbar": {
              "outlinewidth": 0,
              "ticks": ""
             }
            },
            "type": "scattergeo"
           }
          ],
          "scattergl": [
           {
            "marker": {
             "colorbar": {
              "outlinewidth": 0,
              "ticks": ""
             }
            },
            "type": "scattergl"
           }
          ],
          "scattermapbox": [
           {
            "marker": {
             "colorbar": {
              "outlinewidth": 0,
              "ticks": ""
             }
            },
            "type": "scattermapbox"
           }
          ],
          "scatterpolar": [
           {
            "marker": {
             "colorbar": {
              "outlinewidth": 0,
              "ticks": ""
             }
            },
            "type": "scatterpolar"
           }
          ],
          "scatterpolargl": [
           {
            "marker": {
             "colorbar": {
              "outlinewidth": 0,
              "ticks": ""
             }
            },
            "type": "scatterpolargl"
           }
          ],
          "scatterternary": [
           {
            "marker": {
             "colorbar": {
              "outlinewidth": 0,
              "ticks": ""
             }
            },
            "type": "scatterternary"
           }
          ],
          "surface": [
           {
            "colorbar": {
             "outlinewidth": 0,
             "ticks": ""
            },
            "colorscale": [
             [
              0,
              "#0d0887"
             ],
             [
              0.1111111111111111,
              "#46039f"
             ],
             [
              0.2222222222222222,
              "#7201a8"
             ],
             [
              0.3333333333333333,
              "#9c179e"
             ],
             [
              0.4444444444444444,
              "#bd3786"
             ],
             [
              0.5555555555555556,
              "#d8576b"
             ],
             [
              0.6666666666666666,
              "#ed7953"
             ],
             [
              0.7777777777777778,
              "#fb9f3a"
             ],
             [
              0.8888888888888888,
              "#fdca26"
             ],
             [
              1,
              "#f0f921"
             ]
            ],
            "type": "surface"
           }
          ],
          "table": [
           {
            "cells": {
             "fill": {
              "color": "#EBF0F8"
             },
             "line": {
              "color": "white"
             }
            },
            "header": {
             "fill": {
              "color": "#C8D4E3"
             },
             "line": {
              "color": "white"
             }
            },
            "type": "table"
           }
          ]
         },
         "layout": {
          "annotationdefaults": {
           "arrowcolor": "#2a3f5f",
           "arrowhead": 0,
           "arrowwidth": 1
          },
          "colorscale": {
           "diverging": [
            [
             0,
             "#8e0152"
            ],
            [
             0.1,
             "#c51b7d"
            ],
            [
             0.2,
             "#de77ae"
            ],
            [
             0.3,
             "#f1b6da"
            ],
            [
             0.4,
             "#fde0ef"
            ],
            [
             0.5,
             "#f7f7f7"
            ],
            [
             0.6,
             "#e6f5d0"
            ],
            [
             0.7,
             "#b8e186"
            ],
            [
             0.8,
             "#7fbc41"
            ],
            [
             0.9,
             "#4d9221"
            ],
            [
             1,
             "#276419"
            ]
           ],
           "sequential": [
            [
             0,
             "#0d0887"
            ],
            [
             0.1111111111111111,
             "#46039f"
            ],
            [
             0.2222222222222222,
             "#7201a8"
            ],
            [
             0.3333333333333333,
             "#9c179e"
            ],
            [
             0.4444444444444444,
             "#bd3786"
            ],
            [
             0.5555555555555556,
             "#d8576b"
            ],
            [
             0.6666666666666666,
             "#ed7953"
            ],
            [
             0.7777777777777778,
             "#fb9f3a"
            ],
            [
             0.8888888888888888,
             "#fdca26"
            ],
            [
             1,
             "#f0f921"
            ]
           ],
           "sequentialminus": [
            [
             0,
             "#0d0887"
            ],
            [
             0.1111111111111111,
             "#46039f"
            ],
            [
             0.2222222222222222,
             "#7201a8"
            ],
            [
             0.3333333333333333,
             "#9c179e"
            ],
            [
             0.4444444444444444,
             "#bd3786"
            ],
            [
             0.5555555555555556,
             "#d8576b"
            ],
            [
             0.6666666666666666,
             "#ed7953"
            ],
            [
             0.7777777777777778,
             "#fb9f3a"
            ],
            [
             0.8888888888888888,
             "#fdca26"
            ],
            [
             1,
             "#f0f921"
            ]
           ]
          },
          "colorway": [
           "#636efa",
           "#EF553B",
           "#00cc96",
           "#ab63fa",
           "#FFA15A",
           "#19d3f3",
           "#FF6692",
           "#B6E880",
           "#FF97FF",
           "#FECB52"
          ],
          "font": {
           "color": "#2a3f5f"
          },
          "geo": {
           "bgcolor": "white",
           "lakecolor": "white",
           "landcolor": "#E5ECF6",
           "showlakes": true,
           "showland": true,
           "subunitcolor": "white"
          },
          "hoverlabel": {
           "align": "left"
          },
          "hovermode": "closest",
          "mapbox": {
           "style": "light"
          },
          "paper_bgcolor": "white",
          "plot_bgcolor": "#E5ECF6",
          "polar": {
           "angularaxis": {
            "gridcolor": "white",
            "linecolor": "white",
            "ticks": ""
           },
           "bgcolor": "#E5ECF6",
           "radialaxis": {
            "gridcolor": "white",
            "linecolor": "white",
            "ticks": ""
           }
          },
          "scene": {
           "xaxis": {
            "backgroundcolor": "#E5ECF6",
            "gridcolor": "white",
            "gridwidth": 2,
            "linecolor": "white",
            "showbackground": true,
            "ticks": "",
            "zerolinecolor": "white"
           },
           "yaxis": {
            "backgroundcolor": "#E5ECF6",
            "gridcolor": "white",
            "gridwidth": 2,
            "linecolor": "white",
            "showbackground": true,
            "ticks": "",
            "zerolinecolor": "white"
           },
           "zaxis": {
            "backgroundcolor": "#E5ECF6",
            "gridcolor": "white",
            "gridwidth": 2,
            "linecolor": "white",
            "showbackground": true,
            "ticks": "",
            "zerolinecolor": "white"
           }
          },
          "shapedefaults": {
           "line": {
            "color": "#2a3f5f"
           }
          },
          "ternary": {
           "aaxis": {
            "gridcolor": "white",
            "linecolor": "white",
            "ticks": ""
           },
           "baxis": {
            "gridcolor": "white",
            "linecolor": "white",
            "ticks": ""
           },
           "bgcolor": "#E5ECF6",
           "caxis": {
            "gridcolor": "white",
            "linecolor": "white",
            "ticks": ""
           }
          },
          "title": {
           "x": 0.05
          },
          "xaxis": {
           "automargin": true,
           "gridcolor": "white",
           "linecolor": "white",
           "ticks": "",
           "zerolinecolor": "white",
           "zerolinewidth": 2
          },
          "yaxis": {
           "automargin": true,
           "gridcolor": "white",
           "linecolor": "white",
           "ticks": "",
           "zerolinecolor": "white",
           "zerolinewidth": 2
          }
         }
        },
        "title": {
         "text": "PCA"
        },
        "xaxis": {
         "anchor": "y",
         "domain": [
          0,
          0.98
         ],
         "title": {
          "text": "x"
         },
         "type": "log"
        },
        "yaxis": {
         "anchor": "x",
         "domain": [
          0,
          1
         ],
         "title": {
          "text": "y"
         }
        }
       }
      },
      "text/html": [
       "<div>\n",
       "        \n",
       "        \n",
       "            <div id=\"8b0ac486-5564-41f7-9845-513aa88c5606\" class=\"plotly-graph-div\" style=\"height:600px; width:100%;\"></div>\n",
       "            <script type=\"text/javascript\">\n",
       "                require([\"plotly\"], function(Plotly) {\n",
       "                    window.PLOTLYENV=window.PLOTLYENV || {};\n",
       "                    \n",
       "                if (document.getElementById(\"8b0ac486-5564-41f7-9845-513aa88c5606\")) {\n",
       "                    Plotly.newPlot(\n",
       "                        '8b0ac486-5564-41f7-9845-513aa88c5606',\n",
       "                        [{\"hoverlabel\": {\"namelength\": 0}, \"hovertemplate\": \"x=%{x}<br>y=%{y}<br>text=%{text}\", \"legendgroup\": \"\", \"marker\": {\"color\": \"#636efa\", \"symbol\": \"circle\"}, \"mode\": \"markers+text\", \"name\": \"\", \"showlegend\": false, \"text\": [\"cuper\", \"sternness\", \"stainless-steel\", \"lupescu\", \"djeter\", \"3.7508\", \"bubaris\", \"zealandia\", \"public-benefit\", \"1,730\", \"hocutt\", \"ornelas\", \"intercellular\", \"sloppier\", \"threatend\", \"doyt\", \"masoe\", \"brana\", \"221.7\", \"cogwheel\", \"45.68\", \"iker\", \"prospectively\", \"natal\", \"haanas\", \"raziel\", \"oxidizer\", \"okb-1\", \"pravia\", \"searchinger\", \"allen\", \"t18\", \"curfews\", \"ysp\", \"cseh\", \"tutting\", \"sortition\", \"chaitman\", \"paychecks\", \"laing\", \"ongaro\", \"struedinger\", \"turntablist\", \"podd\\u0119bice\", \"m-35\", \"recent\", \"banxico\", \"ipil\", \"traylor\", \"voskresensky\", \"hukawng\", \"artscroll\", \"mouseketeers\", \"undine\", \"sh\\u012br\", \"eschen\", \"poppins\", \"disentis\", \"side-wheel\", \"102.58\", \"safadi\", \"jabre\", \"composure\", \"athens\", \"evonne\", \"sr20\", \"m\\u00e9tropole\", \"pergola\", \"korrespondent\", \"at\\u00e9\", \"cevat\", \"annuity\", \"9/7\", \"schellenberg\", \"dychtwald\", \"lulla\", \"'60\", \"cusped\", \"an\\u00f3nima\", \"sisno\", \"jook\", \"goijman\", \"hummingbirds\", \"1700\", \"300million\", \"cousine\", \"pre-norman\", \"tapio\", \"3-km\", \"walkways\", \"taverners\", \"perforators\", \"t-dog\", \"vowing\", \"pulquerias\", \"turani\", \"klauk\", \"sdm04\", \"alraune\", \"ferrovi\\u00e1rio\", \"embroilment\", \"manilow\", \"marittimo\", \"senility\", \"goodsell\", \"edifact\", \"2,803\", \"batiuk\", \"cjm\", \"90.88\", \"\\u043c\\u0438\\u0445\\u0430\\u0438\\u043b\", \"blechman\", \"archa\", \"sayn-wittgenstein\", \"kathoey\", \"20-a\", \"51.06\", \"barashi\", \"gst\", \"felafel\", \"592\", \"suominen\", \"marchais\", \"anansi\", \"plots\", \"sutarto\", \"guangping\", \"nns7\", \"hanahan\", \"y\\u00ec\", \"nearside\", \"siripol\", \"31.43\", \"58.95\", \"nakaima\", \"dessus\", \"deactivating\", \"dougan\", \"conspiracy\", \"swinnerton\", \"bedout\", \"paloverde\", \"tzahi\", \"hypersea\", \"villaz\\u00f3n\", \"phimosis\", \"kox\", \"rifqa\", \"wbtv\", \"all-share\", \"pye\", \"yordanov\", \"149.7\", \"marvine\", \"hulya\", \"parolee\", \"chege\", \"3-90\", \"warmest\", \"ieee-488\", \"keobounphanh\", \"qualls\", \"saalekreis\", \"hajjis\", \"acquittal\", \"darky\", \"drotske\", \"queenborough\", \"choleric\", \"siripongs\", \"12v\", \"basha\", \"greensburg\", \"cantori\", \"hard-to-reach\", \"duck-like\", \"mahgoub\", \"glycyrrhizin\", \"bolshoi\", \"cotta\", \"duey\", \"quasthoff\", \"chorusing\", \"elongate\", \"lithographed\", \"ene\", \"385th\", \"brentjens\", \"500-1\", \"kaverin\", \"tubarao\", \"cw\", \"crioulo\", \"1948-1949\", \"ofri\", \"houseguests\", \"automotores\", \"pagonis\", \"kluyver\", \"nosotros\", \"prerov\", \"\\u0639\\u0644\\u064a\", \"butterley\", \"theresianum\", \"extensible\", \"buh\", \"three-strikes\", \"mandamento\", \"majorities\", \"siljander\", \"jumhuri\", \"cryptography\", \"9/16\", \".554\", \"martin-smith\", \"skyfire\", \"beaurepaire\", \"k-point\", \"mikuma\", \"desire\", \"sabrisho\", \"administrating\", \"ralstonia\", \"spanaway\", \"www.nytsyn\", \"13-month\", \"tritiya\", \"westerham\", \"8:7\", \"mineral\", \"ifalpa\", \"manoeuvrability\", \"holzemer\", \"hematological\", \"4,258\", \"gamefowl\", \"kem\\u00e9ny\", \"winpac\", \"kult\", \"140km\", \"gojong\", \"minallah\", \"meditated\", \"ambre\", \"provoost\", \"defer\", \"ivanovitch\", \"vylegzhanin\", \"1,600-year\", \"caverly\", \"m\\u00fcnden\", \"derartu\", \"voja\", \"drunk\", \"blakeway\", \"enk\\u00f6ping\", \"lechters\", \"wagoneer\", \"tamahori\", \"roarke\", \"tonderai\", \"panja\", \"biracial\", \"cl\\u00e9ry\", \"seraphina\", \"jihei\", \"jbs\", \"silverbird\", \"mesinai\", \"identifed\", \"kimberly\", \"morally\", \"1.1635\", \"ravings\", \"baseplate\", \"defections\", \"emerick\", \"twistin\", \"swastika\", \"enlil\", \"tulasne\", \"sarakham\", \"h\\u00e4me\", \"baltija\", \"10.63\", \"wonton\", \"starksia\", \"colombano\", \"plain-text\", \"susanf\", \"dohke\", \"404-526-5509\", \"292nd\", \"bresland\", \"leyburn\", \"ajar\", \"guiney\", \"shirou\", \"cabeus\", \"ogea\"], \"textposition\": \"top center\", \"type\": \"scatter\", \"x\": [1.3264137506484985, 0.010485796257853508, -0.45250409841537476, -0.17991261184215546, 0.8498916029930115, -1.559080958366394, -0.3555179536342621, -0.43816545605659485, -0.7038004398345947, 0.7607812285423279, -0.3857251703739166, -0.0829748585820198, 0.10081269592046738, -0.13997097313404083, 0.1759166419506073, -0.43469616770744324, 0.38739654421806335, -0.8017433881759644, -0.6846129298210144, -0.3554815351963043, -0.9985063076019287, 1.0118104219436646, 0.15145088732242584, 2.6362156867980957, -0.9297462701797485, 0.19071245193481445, 1.424677848815918, -0.7403895258903503, -0.5499287247657776, -1.8053553104400635, 3.0756633281707764, -0.7382832765579224, 2.7874655723571777, 0.9261481165885925, 0.12989789247512817, 0.32367438077926636, -0.6044155359268188, -1.1539570093154907, 2.181454658508301, 1.5645095109939575, 0.20973704755306244, -0.5309842824935913, -0.0756196603178978, -0.025980673730373383, -0.3260815739631653, 4.468605995178223, -0.9166499972343445, 0.6671972274780273, 1.3752260208129883, -0.49916017055511475, -0.48866501450538635, -0.586957573890686, -0.14117968082427979, 0.00150097138248384, 0.8099842071533203, -0.7938441038131714, 1.314769983291626, -0.49605271220207214, -0.15980641543865204, -0.9023116230964661, -0.8472501635551453, -0.690077006816864, 1.9128451347351074, 3.231884479522705, 0.4298698604106903, -0.12006235122680664, -0.5165782570838928, 0.6669348478317261, -1.0985021591186523, -1.0010602474212646, -0.9026593565940857, 2.036679744720459, 0.7184280157089233, 0.3070119619369507, -0.2924562096595764, -1.0145355463027954, 0.531037449836731, -0.1887478530406952, -1.1002627611160278, -1.819581389427185, 0.2038038671016693, -0.2195005714893341, 1.6978464126586914, 2.0138251781463623, -0.8762775659561157, -0.5055847764015198, 0.32619336247444153, -0.4840432107448578, -0.6845319867134094, 1.6758112907409668, 0.05168207734823227, -0.5841707587242126, -0.002885397057980299, 2.8446195125579834, -0.3269822597503662, -1.0580837726593018, -0.617171585559845, 0.6675294041633606, -1.0452841520309448, -0.2338455319404602, -0.9241234064102173, 1.0597394704818726, -1.2595149278640747, 0.7547168731689453, 0.12303079664707184, -0.7805340886116028, -0.3511495590209961, -0.500621497631073, -0.38477566838264465, -1.0473909378051758, -0.8174607753753662, -0.15203483402729034, 1.062890887260437, -0.7403573989868164, -0.4123241603374481, 0.03544896841049194, -0.5777484178543091, -2.0330376625061035, 1.9756484031677246, -0.9193482995033264, 1.5131434202194214, -0.7030543684959412, 0.34633031487464905, 0.13538222014904022, 3.1624648571014404, 1.2472227811813354, -1.3707013130187988, -0.6975345015525818, -0.5898365378379822, -0.717146098613739, -0.30437296628952026, -1.7209792137145996, -0.9686955809593201, -0.7017667293548584, -0.08055950701236725, -1.4620743989944458, 0.37609097361564636, 0.513016402721405, 3.8206191062927246, -0.316289484500885, -0.4254479706287384, -0.48525699973106384, -0.18641144037246704, 0.18282175064086914, -0.7695486545562744, -0.8926486372947693, -0.7812700271606445, -0.5286802053451538, -0.04707295820116997, -0.610450029373169, 1.431261420249939, 0.09687742590904236, -0.1852714717388153, -1.7829285860061646, -1.4621832370758057, 0.7992238402366638, -1.030119776725769, -1.1220530271530151, 2.1208603382110596, -0.434920996427536, -0.46544867753982544, 0.8673436641693115, -0.2939656972885132, -0.33511120080947876, 2.842808485031128, -0.4555719196796417, -1.1688288450241089, -0.0158007200807333, -0.21991024911403656, -0.5105198621749878, -0.14200209081172943, 0.32870712876319885, 0.8665674924850464, -1.300403118133545, -0.29027095437049866, -0.1288997083902359, -0.8385287523269653, -0.7522799372673035, 1.419435977935791, 1.6025115251541138, -1.2776302099227905, -0.03340296819806099, -0.556088387966156, 1.2223666906356812, 0.03615086153149605, 0.20254218578338623, -0.360675185918808, -1.2772499322891235, 0.35481777787208557, -0.7279838919639587, -0.06318910419940948, 2.513857841491699, -0.9324633479118347, 0.24509067833423615, -0.5956442952156067, 2.277191162109375, -1.0785691738128662, 0.025847584009170532, -1.0139580965042114, -0.42398250102996826, -1.1333688497543335, -0.5611194968223572, 0.18416503071784973, -0.6930060386657715, 1.188145637512207, 0.7000313997268677, -0.4288281202316284, -0.9912061095237732, 2.8242785930633545, -0.8124626278877258, -0.9965963959693909, 1.7446916103363037, 1.279204249382019, -1.3290114402770996, -0.5637567639350891, -0.20144742727279663, -1.0013000965118408, -0.4553786516189575, -0.5626556873321533, 3.5043182373046875, -0.7385246753692627, 0.5996568202972412, -1.2881226539611816, -0.7896166443824768, 0.732404887676239, 1.8477427959442139, -0.6061651110649109, -0.5748597383499146, -0.7631546854972839, 2.6612470149993896, 0.0730394572019577, 0.6312822699546814, -0.540446400642395, -0.010118897072970867, -0.3651251196861267, -0.24101555347442627, -0.5892731547355652, -0.4712033271789551, 0.11290103942155838, -0.8254474997520447, 0.1946997195482254, -1.0321623086929321, 1.6923054456710815, -0.5687249302864075, -0.5592877268791199, 2.5453338623046875, -1.1939030885696411, -0.8946357369422913, -0.09204494208097458, -0.3843519389629364, -0.4157160520553589, 0.4591406285762787, -1.1140352487564087, 2.8109664916992188, -0.22759248316287994, -0.7590464353561401, -0.19593514502048492, 0.4663172662258148, 0.21358196437358856, 0.7854682803153992, -0.8359872102737427, 0.3350101411342621, 1.3511404991149902, -0.7049829363822937, -0.7544081807136536, -0.8170313239097595, 0.6694287061691284, -0.2821542024612427, -0.5152115821838379, 0.07618904858827591, 1.991458535194397, 2.666696548461914, -0.6546883583068848, 0.3007134795188904, -0.13157601654529572, 2.4145047664642334, 0.32001927495002747, -0.5904408097267151, 2.007678270339966, -0.2978587746620178, -0.22728058695793152, -0.6730321645736694, -0.45384714007377625, -0.6992825269699097, 0.1060890257358551, 0.5656838417053223, -2.218827247619629, -1.2503340244293213, -0.07051113992929459, 0.14817379415035248, -2.305070400238037, -0.5377538800239563, -0.6288862228393555, -1.5091725587844849, -0.31585046648979187, 1.1672247648239136, -0.09215664118528366, -0.7873384356498718, -0.4805617928504944, 0.4978734254837036], \"xaxis\": \"x\", \"y\": [0.8442609906196594, 1.0325117111206055, 0.5236395001411438, -0.1290757805109024, -1.6086599826812744, 0.47206225991249084, -0.8835778832435608, 0.05898924171924591, 0.6317200064659119, 0.8448224663734436, -0.3387005031108856, -0.9279910922050476, 0.6034625172615051, 0.44349583983421326, -0.12473630160093307, -0.8244156241416931, -1.3073232173919678, 0.03590525686740875, -0.10739941149950027, 0.27917030453681946, -0.5048847198486328, -0.35823896527290344, 0.30753183364868164, -0.35836541652679443, 0.04733582213521004, -0.5485765933990479, 0.9852900505065918, -0.29547590017318726, 0.0884757786989212, -0.8779192566871643, -2.0294857025146484, 0.01546193566173315, 0.7445091605186462, 0.8504112958908081, -1.1951344013214111, -0.04445119574666023, 0.4052163362503052, -1.4173364639282227, 0.4809969663619995, -1.711379051208496, 0.026844410225749016, -1.0891366004943848, 0.26706886291503906, 0.2830527424812317, 0.35856571793556213, -0.45374810695648193, 0.0583852082490921, -0.42278945446014404, -0.797555685043335, -0.3207111358642578, 0.195784330368042, 0.7492094039916992, -0.12671346962451935, 0.46435847878456116, 0.1700567901134491, 0.3565095365047455, -0.9965208768844604, 0.20928698778152466, 0.30447399616241455, -0.3368287980556488, -0.43568915128707886, 0.1838913857936859, 0.42740514874458313, -0.8198819756507874, -1.7044113874435425, -0.19962307810783386, -0.17141486704349518, 0.21236155927181244, 0.5998387336730957, -0.23166002333164215, -0.10653074830770493, -0.1320667862892151, 0.056089505553245544, -0.15473057329654694, -0.5513759851455688, 0.38283705711364746, -0.8056241273880005, 1.4762866497039795, 1.0038440227508545, -0.28872978687286377, -0.20614272356033325, 0.2162773162126541, 1.3230009078979492, -0.8710672855377197, 0.05705897882580757, -0.6222705245018005, 1.0259335041046143, -0.7979851365089417, 1.6335759162902832, 1.5194334983825684, 0.9369292259216309, 1.2593069076538086, 0.27849453687667847, 0.03655894473195076, 0.5753300786018372, 0.06799473613500595, -0.05667869746685028, 0.23844310641288757, -0.1995488852262497, 1.3513729572296143, 0.6724662184715271, -0.6622939109802246, 0.31861236691474915, 0.07691267877817154, -1.013622522354126, 0.28816312551498413, 1.0748704671859741, -0.18727417290210724, 0.27267149090766907, -0.2834467589855194, -1.1759520769119263, -1.1985644102096558, 0.0955633595585823, 0.7583432197570801, 0.5852826237678528, 0.8364386558532715, -1.05863356590271, -0.0848892331123352, 0.13197925686836243, 0.4481428563594818, -0.38795462250709534, -1.1069823503494263, 0.4224869906902313, 0.47295793890953064, -0.037812091410160065, 0.14483270049095154, 0.11187820136547089, -0.8853567242622375, -0.3205128312110901, 0.0010826120851561427, 0.7956379055976868, -0.49769869446754456, -0.4129909873008728, 0.050855837762355804, 0.33164820075035095, -0.031580425798892975, 0.7769019603729248, -0.9169527292251587, -0.880664587020874, -0.2201828956604004, -0.14277057349681854, 1.3157955408096313, 0.040774036198854446, -0.003788900561630726, 0.17501133680343628, 0.5888026356697083, 0.423239529132843, 0.06719397753477097, 0.486856609582901, 0.7200534343719482, -1.445937991142273, -0.23017455637454987, 0.20198576152324677, -0.5703701972961426, -1.0798343420028687, 0.0027584070339798927, -1.595156192779541, -0.07292994111776352, 0.7704207301139832, 1.0486464500427246, 0.6663585901260376, -1.244697093963623, -0.06393960118293762, 0.825564980506897, -0.586184024810791, -0.0193853210657835, -0.31183332204818726, -0.1453750729560852, 0.17563363909721375, -0.573624312877655, 0.48396188020706177, -0.3976065218448639, -8.460287062916905e-05, -0.9044673442840576, 1.2042560577392578, 5.84263801574707, -0.6696694493293762, 0.6166141033172607, 0.440823495388031, 0.027861425653100014, -0.8130137920379639, 0.08528096228837967, 0.5393190979957581, 1.657537817955017, 0.2285909503698349, -0.6054393649101257, 0.22778122127056122, -0.0639352947473526, 0.373882532119751, 0.24548247456550598, 0.025922155007719994, 0.29752108454704285, 0.18728376924991608, 0.39629149436950684, -0.3534437119960785, 0.73872971534729, 0.23215802013874054, -1.378833293914795, 0.3217359483242035, 0.8935973048210144, 0.17587152123451233, -0.6274406313896179, -0.2890247106552124, 0.39336684346199036, 1.6349941492080688, -4.643884658813477, 0.06168671324849129, 1.144902229309082, 1.0156084299087524, -1.7968930006027222, 0.14364302158355713, 0.2731573283672333, -1.5598680973052979, -1.1058993339538574, -0.42610692977905273, -0.455272912979126, -0.589167594909668, 0.6257460117340088, 0.34255465865135193, -0.017849739640951157, 0.007754732854664326, 0.9699424505233765, 0.392461895942688, 0.4182208478450775, -1.0301395654678345, 0.16930446028709412, 0.11991392076015472, -0.4080914855003357, 0.43225666880607605, 0.4055463373661041, -0.057028356939554214, 1.521751880645752, -0.7474347352981567, 2.1553947925567627, -0.018356425687670708, 1.0967296361923218, 0.3314179480075836, -0.14595818519592285, 0.4275282919406891, 0.28104838728904724, 0.5052446126937866, -0.4767895042896271, -0.05385761708021164, 0.5714786648750305, -0.8492832183837891, 0.3993571400642395, -0.35721516609191895, -0.23335959017276764, -0.06949889659881592, -0.6902039051055908, 0.12575756013393402, 0.008165951818227768, -0.5529727935791016, -0.17906226217746735, -0.2290610522031784, 0.8311012983322144, -0.2696691155433655, 0.7461473941802979, -0.6466108560562134, 0.5088018774986267, -1.0199936628341675, -0.633641242980957, 0.2363417148590088, 0.40694597363471985, -0.6027442216873169, 0.2878810167312622, -0.6439405083656311, -0.24178506433963776, -0.10898834466934204, -0.1462775319814682, -2.7011525630950928, 1.314267635345459, -0.7049671411514282, 0.9723894000053406, 1.1516011953353882, 0.23865863680839539, -1.675367832183838, -0.19073764979839325, 0.27996760606765747, 0.49621111154556274, -0.08720680326223373, 0.43884196877479553, 0.401874840259552, 0.05994599312543869, -0.4156845510005951, 0.11626553535461426, -0.0058922311291098595, -0.4806484878063202, 0.9092345237731934, -1.6411323547363281, -0.22010135650634766, -0.13711294531822205, 0.0641992837190628, -1.323411464691162, -0.2534274458885193, 0.5777972936630249, -0.390828937292099, 0.4917771518230438, -0.11874300241470337, -0.5280765891075134], \"yaxis\": \"y\"}],\n",
       "                        {\"height\": 600, \"legend\": {\"tracegroupgap\": 0}, \"margin\": {\"t\": 60}, \"template\": {\"data\": {\"bar\": [{\"error_x\": {\"color\": \"#2a3f5f\"}, \"error_y\": {\"color\": \"#2a3f5f\"}, \"marker\": {\"line\": {\"color\": \"#E5ECF6\", \"width\": 0.5}}, \"type\": \"bar\"}], \"barpolar\": [{\"marker\": {\"line\": {\"color\": \"#E5ECF6\", \"width\": 0.5}}, \"type\": \"barpolar\"}], \"carpet\": [{\"aaxis\": {\"endlinecolor\": \"#2a3f5f\", \"gridcolor\": \"white\", \"linecolor\": \"white\", \"minorgridcolor\": \"white\", \"startlinecolor\": \"#2a3f5f\"}, \"baxis\": {\"endlinecolor\": \"#2a3f5f\", \"gridcolor\": \"white\", \"linecolor\": \"white\", \"minorgridcolor\": \"white\", \"startlinecolor\": \"#2a3f5f\"}, \"type\": \"carpet\"}], \"choropleth\": [{\"colorbar\": {\"outlinewidth\": 0, \"ticks\": \"\"}, \"type\": \"choropleth\"}], \"contour\": [{\"colorbar\": {\"outlinewidth\": 0, \"ticks\": \"\"}, \"colorscale\": [[0.0, \"#0d0887\"], [0.1111111111111111, \"#46039f\"], [0.2222222222222222, \"#7201a8\"], [0.3333333333333333, \"#9c179e\"], [0.4444444444444444, \"#bd3786\"], [0.5555555555555556, \"#d8576b\"], [0.6666666666666666, \"#ed7953\"], [0.7777777777777778, \"#fb9f3a\"], [0.8888888888888888, \"#fdca26\"], [1.0, \"#f0f921\"]], \"type\": \"contour\"}], \"contourcarpet\": [{\"colorbar\": {\"outlinewidth\": 0, \"ticks\": \"\"}, \"type\": \"contourcarpet\"}], \"heatmap\": [{\"colorbar\": {\"outlinewidth\": 0, \"ticks\": \"\"}, \"colorscale\": [[0.0, \"#0d0887\"], [0.1111111111111111, \"#46039f\"], [0.2222222222222222, \"#7201a8\"], [0.3333333333333333, \"#9c179e\"], [0.4444444444444444, \"#bd3786\"], [0.5555555555555556, \"#d8576b\"], [0.6666666666666666, \"#ed7953\"], [0.7777777777777778, \"#fb9f3a\"], [0.8888888888888888, \"#fdca26\"], [1.0, \"#f0f921\"]], \"type\": \"heatmap\"}], \"heatmapgl\": [{\"colorbar\": {\"outlinewidth\": 0, \"ticks\": \"\"}, \"colorscale\": [[0.0, \"#0d0887\"], [0.1111111111111111, \"#46039f\"], [0.2222222222222222, \"#7201a8\"], [0.3333333333333333, \"#9c179e\"], [0.4444444444444444, \"#bd3786\"], [0.5555555555555556, \"#d8576b\"], [0.6666666666666666, \"#ed7953\"], [0.7777777777777778, \"#fb9f3a\"], [0.8888888888888888, \"#fdca26\"], [1.0, \"#f0f921\"]], \"type\": \"heatmapgl\"}], \"histogram\": [{\"marker\": {\"colorbar\": {\"outlinewidth\": 0, \"ticks\": \"\"}}, \"type\": \"histogram\"}], \"histogram2d\": [{\"colorbar\": {\"outlinewidth\": 0, \"ticks\": \"\"}, \"colorscale\": [[0.0, \"#0d0887\"], [0.1111111111111111, \"#46039f\"], [0.2222222222222222, \"#7201a8\"], [0.3333333333333333, \"#9c179e\"], [0.4444444444444444, \"#bd3786\"], [0.5555555555555556, \"#d8576b\"], [0.6666666666666666, \"#ed7953\"], [0.7777777777777778, \"#fb9f3a\"], [0.8888888888888888, \"#fdca26\"], [1.0, \"#f0f921\"]], \"type\": \"histogram2d\"}], \"histogram2dcontour\": [{\"colorbar\": {\"outlinewidth\": 0, \"ticks\": \"\"}, \"colorscale\": [[0.0, \"#0d0887\"], [0.1111111111111111, \"#46039f\"], [0.2222222222222222, \"#7201a8\"], [0.3333333333333333, \"#9c179e\"], [0.4444444444444444, \"#bd3786\"], [0.5555555555555556, \"#d8576b\"], [0.6666666666666666, \"#ed7953\"], [0.7777777777777778, \"#fb9f3a\"], [0.8888888888888888, \"#fdca26\"], [1.0, \"#f0f921\"]], \"type\": \"histogram2dcontour\"}], \"mesh3d\": [{\"colorbar\": {\"outlinewidth\": 0, \"ticks\": \"\"}, \"type\": \"mesh3d\"}], \"parcoords\": [{\"line\": {\"colorbar\": {\"outlinewidth\": 0, \"ticks\": \"\"}}, \"type\": \"parcoords\"}], \"scatter\": [{\"marker\": {\"colorbar\": {\"outlinewidth\": 0, \"ticks\": \"\"}}, \"type\": \"scatter\"}], \"scatter3d\": [{\"line\": {\"colorbar\": {\"outlinewidth\": 0, \"ticks\": \"\"}}, \"marker\": {\"colorbar\": {\"outlinewidth\": 0, \"ticks\": \"\"}}, \"type\": \"scatter3d\"}], \"scattercarpet\": [{\"marker\": {\"colorbar\": {\"outlinewidth\": 0, \"ticks\": \"\"}}, \"type\": \"scattercarpet\"}], \"scattergeo\": [{\"marker\": {\"colorbar\": {\"outlinewidth\": 0, \"ticks\": \"\"}}, \"type\": \"scattergeo\"}], \"scattergl\": [{\"marker\": {\"colorbar\": {\"outlinewidth\": 0, \"ticks\": \"\"}}, \"type\": \"scattergl\"}], \"scattermapbox\": [{\"marker\": {\"colorbar\": {\"outlinewidth\": 0, \"ticks\": \"\"}}, \"type\": \"scattermapbox\"}], \"scatterpolar\": [{\"marker\": {\"colorbar\": {\"outlinewidth\": 0, \"ticks\": \"\"}}, \"type\": \"scatterpolar\"}], \"scatterpolargl\": [{\"marker\": {\"colorbar\": {\"outlinewidth\": 0, \"ticks\": \"\"}}, \"type\": \"scatterpolargl\"}], \"scatterternary\": [{\"marker\": {\"colorbar\": {\"outlinewidth\": 0, \"ticks\": \"\"}}, \"type\": \"scatterternary\"}], \"surface\": [{\"colorbar\": {\"outlinewidth\": 0, \"ticks\": \"\"}, \"colorscale\": [[0.0, \"#0d0887\"], [0.1111111111111111, \"#46039f\"], [0.2222222222222222, \"#7201a8\"], [0.3333333333333333, \"#9c179e\"], [0.4444444444444444, \"#bd3786\"], [0.5555555555555556, \"#d8576b\"], [0.6666666666666666, \"#ed7953\"], [0.7777777777777778, \"#fb9f3a\"], [0.8888888888888888, \"#fdca26\"], [1.0, \"#f0f921\"]], \"type\": \"surface\"}], \"table\": [{\"cells\": {\"fill\": {\"color\": \"#EBF0F8\"}, \"line\": {\"color\": \"white\"}}, \"header\": {\"fill\": {\"color\": \"#C8D4E3\"}, \"line\": {\"color\": \"white\"}}, \"type\": \"table\"}]}, \"layout\": {\"annotationdefaults\": {\"arrowcolor\": \"#2a3f5f\", \"arrowhead\": 0, \"arrowwidth\": 1}, \"colorscale\": {\"diverging\": [[0, \"#8e0152\"], [0.1, \"#c51b7d\"], [0.2, \"#de77ae\"], [0.3, \"#f1b6da\"], [0.4, \"#fde0ef\"], [0.5, \"#f7f7f7\"], [0.6, \"#e6f5d0\"], [0.7, \"#b8e186\"], [0.8, \"#7fbc41\"], [0.9, \"#4d9221\"], [1, \"#276419\"]], \"sequential\": [[0.0, \"#0d0887\"], [0.1111111111111111, \"#46039f\"], [0.2222222222222222, \"#7201a8\"], [0.3333333333333333, \"#9c179e\"], [0.4444444444444444, \"#bd3786\"], [0.5555555555555556, \"#d8576b\"], [0.6666666666666666, \"#ed7953\"], [0.7777777777777778, \"#fb9f3a\"], [0.8888888888888888, \"#fdca26\"], [1.0, \"#f0f921\"]], \"sequentialminus\": [[0.0, \"#0d0887\"], [0.1111111111111111, \"#46039f\"], [0.2222222222222222, \"#7201a8\"], [0.3333333333333333, \"#9c179e\"], [0.4444444444444444, \"#bd3786\"], [0.5555555555555556, \"#d8576b\"], [0.6666666666666666, \"#ed7953\"], [0.7777777777777778, \"#fb9f3a\"], [0.8888888888888888, \"#fdca26\"], [1.0, \"#f0f921\"]]}, \"colorway\": [\"#636efa\", \"#EF553B\", \"#00cc96\", \"#ab63fa\", \"#FFA15A\", \"#19d3f3\", \"#FF6692\", \"#B6E880\", \"#FF97FF\", \"#FECB52\"], \"font\": {\"color\": \"#2a3f5f\"}, \"geo\": {\"bgcolor\": \"white\", \"lakecolor\": \"white\", \"landcolor\": \"#E5ECF6\", \"showlakes\": true, \"showland\": true, \"subunitcolor\": \"white\"}, \"hoverlabel\": {\"align\": \"left\"}, \"hovermode\": \"closest\", \"mapbox\": {\"style\": \"light\"}, \"paper_bgcolor\": \"white\", \"plot_bgcolor\": \"#E5ECF6\", \"polar\": {\"angularaxis\": {\"gridcolor\": \"white\", \"linecolor\": \"white\", \"ticks\": \"\"}, \"bgcolor\": \"#E5ECF6\", \"radialaxis\": {\"gridcolor\": \"white\", \"linecolor\": \"white\", \"ticks\": \"\"}}, \"scene\": {\"xaxis\": {\"backgroundcolor\": \"#E5ECF6\", \"gridcolor\": \"white\", \"gridwidth\": 2, \"linecolor\": \"white\", \"showbackground\": true, \"ticks\": \"\", \"zerolinecolor\": \"white\"}, \"yaxis\": {\"backgroundcolor\": \"#E5ECF6\", \"gridcolor\": \"white\", \"gridwidth\": 2, \"linecolor\": \"white\", \"showbackground\": true, \"ticks\": \"\", \"zerolinecolor\": \"white\"}, \"zaxis\": {\"backgroundcolor\": \"#E5ECF6\", \"gridcolor\": \"white\", \"gridwidth\": 2, \"linecolor\": \"white\", \"showbackground\": true, \"ticks\": \"\", \"zerolinecolor\": \"white\"}}, \"shapedefaults\": {\"line\": {\"color\": \"#2a3f5f\"}}, \"ternary\": {\"aaxis\": {\"gridcolor\": \"white\", \"linecolor\": \"white\", \"ticks\": \"\"}, \"baxis\": {\"gridcolor\": \"white\", \"linecolor\": \"white\", \"ticks\": \"\"}, \"bgcolor\": \"#E5ECF6\", \"caxis\": {\"gridcolor\": \"white\", \"linecolor\": \"white\", \"ticks\": \"\"}}, \"title\": {\"x\": 0.05}, \"xaxis\": {\"automargin\": true, \"gridcolor\": \"white\", \"linecolor\": \"white\", \"ticks\": \"\", \"zerolinecolor\": \"white\", \"zerolinewidth\": 2}, \"yaxis\": {\"automargin\": true, \"gridcolor\": \"white\", \"linecolor\": \"white\", \"ticks\": \"\", \"zerolinecolor\": \"white\", \"zerolinewidth\": 2}}}, \"title\": {\"text\": \"PCA\"}, \"xaxis\": {\"anchor\": \"y\", \"domain\": [0.0, 0.98], \"title\": {\"text\": \"x\"}, \"type\": \"log\"}, \"yaxis\": {\"anchor\": \"x\", \"domain\": [0.0, 1.0], \"title\": {\"text\": \"y\"}}},\n",
       "                        {\"responsive\": true}\n",
       "                    ).then(function(){\n",
       "                            \n",
       "var gd = document.getElementById('8b0ac486-5564-41f7-9845-513aa88c5606');\n",
       "var x = new MutationObserver(function (mutations, observer) {{\n",
       "        var display = window.getComputedStyle(gd).display;\n",
       "        if (!display || display === 'none') {{\n",
       "            console.log([gd, 'removed!']);\n",
       "            Plotly.purge(gd);\n",
       "            observer.disconnect();\n",
       "        }}\n",
       "}});\n",
       "\n",
       "// Listen for the removal of the full notebook cells\n",
       "var notebookContainer = gd.closest('#notebook-container');\n",
       "if (notebookContainer) {{\n",
       "    x.observe(notebookContainer, {childList: true});\n",
       "}}\n",
       "\n",
       "// Listen for the clearing of the current output cell\n",
       "var outputEl = gd.closest('.output');\n",
       "if (outputEl) {{\n",
       "    x.observe(outputEl, {childList: true});\n",
       "}}\n",
       "\n",
       "                        })\n",
       "                };\n",
       "                });\n",
       "            </script>\n",
       "        </div>"
      ]
     },
     "metadata": {},
     "output_type": "display_data"
    }
   ],
   "source": [
    "display_pca_scatterplot_iplot(model, sample=300)"
   ]
  },
  {
   "cell_type": "code",
   "execution_count": null,
   "metadata": {},
   "outputs": [],
   "source": []
  }
 ],
 "metadata": {
  "kernelspec": {
   "display_name": "Python 3",
   "language": "python",
   "name": "python3"
  },
  "language_info": {
   "codemirror_mode": {
    "name": "ipython",
    "version": 3
   },
   "file_extension": ".py",
   "mimetype": "text/x-python",
   "name": "python",
   "nbconvert_exporter": "python",
   "pygments_lexer": "ipython3",
   "version": "3.7.3"
  }
 },
 "nbformat": 4,
 "nbformat_minor": 2
}
